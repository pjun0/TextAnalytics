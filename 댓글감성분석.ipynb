{
 "cells": [
  {
   "cell_type": "markdown",
   "id": "d2143109",
   "metadata": {
    "id": "d2143109"
   },
   "source": [
    "## 텍스트데이터분석 프로젝트"
   ]
  },
  {
   "cell_type": "markdown",
   "id": "a2504cc5",
   "metadata": {
    "id": "a2504cc5"
   },
   "source": [
    "### 목차\n",
    "#### 1. 데이터 수집\n",
    "    - 1. 네이버자동차\n",
    "    - 2. 다음자동차\n",
    "#### 2. 데이터 전처리\n",
    "    - 분석의도와 무관한 댓글 제거\n",
    "    - 중복 댓글 제거\n",
    "    - 불용어구\n",
    "    - comment란이 빈 경우\n",
    "#### 3. 단어 빈도\n",
    "#### 4. 감성분석\n",
    "#### 5. 주제분석"
   ]
  },
  {
   "cell_type": "markdown",
   "id": "0a1c6043",
   "metadata": {
    "id": "0a1c6043"
   },
   "source": [
    "## 1. 데이터 수집\n",
    " - 네이버 자동차와 다음 자동차의 댓글을 사용하였다. 그중에서 국내차량브랜드 중 국내시판 모델을 대상으로 한다."
   ]
  },
  {
   "cell_type": "code",
   "execution_count": null,
   "id": "c5dee85a",
   "metadata": {
    "id": "c5dee85a"
   },
   "outputs": [],
   "source": [
    "from selenium import webdriver\n",
    "import time"
   ]
  },
  {
   "cell_type": "code",
   "execution_count": null,
   "id": "q-pIVNdJ89AO",
   "metadata": {
    "colab": {
     "base_uri": "https://localhost:8080/"
    },
    "executionInfo": {
     "elapsed": 50052,
     "status": "ok",
     "timestamp": 1619185150598,
     "user": {
      "displayName": "­박준영[경영학부]",
      "photoUrl": "",
      "userId": "14019551026038677091"
     },
     "user_tz": -540
    },
    "id": "q-pIVNdJ89AO",
    "outputId": "f1de02ee-a818-4b93-f4c9-44fe613b9b4f"
   },
   "outputs": [],
   "source": [
    "from google.colab import drive\n",
    "drive.mount('/content/drive')"
   ]
  },
  {
   "cell_type": "code",
   "execution_count": null,
   "id": "26bf75c2",
   "metadata": {
    "id": "26bf75c2"
   },
   "outputs": [],
   "source": [
    "dr = webdriver.Chrome('./chromedriver_win32/chromedriver')"
   ]
  },
  {
   "cell_type": "markdown",
   "id": "cbd69b21",
   "metadata": {
    "id": "cbd69b21"
   },
   "source": [
    "#### 1-1) 네이버자동차\n",
    "- 2021년 04월 18일 오전2시22분에 크롤링한 데이터를 분석에 사용하였다."
   ]
  },
  {
   "cell_type": "code",
   "execution_count": null,
   "id": "b3bfca0e",
   "metadata": {
    "executionInfo": {
     "elapsed": 784,
     "status": "ok",
     "timestamp": 1619191328891,
     "user": {
      "displayName": "­박준영[경영학부]",
      "photoUrl": "",
      "userId": "14019551026038677091"
     },
     "user_tz": -540
    },
    "id": "b3bfca0e"
   },
   "outputs": [],
   "source": [
    "urls = [[\"https://auto.naver.com/company/main.nhn?mnfcoNo=12&modelType=OS&order=0&importYn=N&lnchYY=-1&saleType=0\", 'KIA'],\n",
    "        [\"https://auto.naver.com/company/main.nhn?mnfcoNo=16&modelType=OS&order=0&importYn=N&lnchYY=-1&saleType=0\", 'HYUNDAI'],\n",
    "        [\"https://auto.naver.com/company/main.nhn?mnfcoNo=61321&modelType=OS&order=0&importYn=N&lnchYY=-1&saleType=0\", 'GENESIS'],\n",
    "        [\"https://auto.naver.com/company/main.nhn?mnfcoNo=13&modelType=OS&order=0&importYn=N&lnchYY=-1&saleType=0\", 'SSANGYONG'],\n",
    "        [\"https://auto.naver.com/company/main.nhn?mnfcoNo=15&modelType=OS&order=0&importYn=N&lnchYY=-1&saleType=0\", 'SAMSUNG'],\n",
    "        ]"
   ]
  },
  {
   "cell_type": "code",
   "execution_count": null,
   "id": "e2f5fab7",
   "metadata": {
    "id": "e2f5fab7"
   },
   "outputs": [],
   "source": [
    "f = open('naver_review.csv','w')\n",
    "f.write('maker,car,car_num,comment')\n",
    "f.close()"
   ]
  },
  {
   "cell_type": "code",
   "execution_count": null,
   "id": "d82ec514",
   "metadata": {
    "id": "d82ec514"
   },
   "outputs": [],
   "source": [
    "import pandas as pd\n",
    "car_review = pd.read_csv('naver_review.csv',encoding='cp949')\n",
    "car_review"
   ]
  },
  {
   "cell_type": "code",
   "execution_count": null,
   "id": "513caa74",
   "metadata": {
    "id": "513caa74"
   },
   "outputs": [],
   "source": [
    "for u in range(len(urls)):\n",
    "    dr.get(urls[u][0])\n",
    "    #한페이지 차량정보, 총 15대\n",
    "    cars = dr.find_elements_by_css_selector(\"div.model_ct \")\n",
    "    nums = dr.find_elements_by_css_selector(\"div > div > a.model_name\")\n",
    "    #차량정보(제조사,이름,고유번호)\n",
    "    car_info= []\n",
    "    for i in range(len(cars)):\n",
    "        car_info.append([f'{urls[u][1]}',cars[i].text.split('\\n')[0].replace(' ',''),nums[i].get_attribute(\"href\").split('=')[1]])\n",
    "    \n",
    "    for maker,c,num in car_info:\n",
    "        dr.get(f'https://auto.naver.com/car/talk.nhn?yearsId={num}')\n",
    "        time.sleep(0.5)\n",
    "    \n",
    "        #댓글 페이지 이동을 쉽게하기위해 마지막페이지부터 크롤링\n",
    "        last = dr.find_element_by_css_selector(\"#comment_box_module > div > div.u_cbox_paginate > div > a.u_cbox_next.u_cbox_next_end\")\n",
    "        last.click()\n",
    "        time.sleep(0.1)\n",
    "    \n",
    "        #마지막페이지 댓글 저장\n",
    "        comments = dr.find_elements_by_css_selector(\"div.u_cbox_text_wrap span.u_cbox_contents\")\n",
    "        #time.sleep(0.1)\n",
    "        for j in range(len(comments)):\n",
    "            time.sleep(0.1)\n",
    "            comment=comments[j].text.replace(\",\",\"\")\n",
    "            #견적요청 혹은 홍보와 관련된 댓글을 1차적으로 제외\n",
    "            if '견적' in comment:\n",
    "                continue\n",
    "            elif '.com' in comment:\n",
    "                continue\n",
    "            elif '렌트' in comment:\n",
    "                continue\n",
    "            else:\n",
    "                try:\n",
    "                    f = open('car_review.csv','a')\n",
    "                    f.write(f'\\n{maker},{c},{num},{comment}')\n",
    "                except:\n",
    "                    continue\n",
    "                f.close()\n",
    "        n=1\n",
    "        #앞으로 넘어가면서 댓글 저장\n",
    "        while n!=0:\n",
    "            length = len(dr.find_elements_by_css_selector(\"#comment_box_module > div > div.u_cbox_paginate > div > a\"))\n",
    "            #맨앞,이전,이후,맨뒤 버튼때문에 length에 조건을 둠\n",
    "            if length==13:\n",
    "                length-=2\n",
    "            elif length==12:\n",
    "                length-=1\n",
    "            for i in range(length,1,-1):\n",
    "                tag = f\"#comment_box_module > div > div.u_cbox_paginate > div > a:nth-child({i})\"\n",
    "\n",
    "                if length==2:\n",
    "                    tag = f\"#comment_box_module > div > div.u_cbox_paginate > div > a:nth-child(1)\"\n",
    "                try:\n",
    "                    page = dr.find_element_by_css_selector(tag)\n",
    "                except:\n",
    "                    break\n",
    "                page.click()\n",
    "                time.sleep(0.5)\n",
    "                comments = dr.find_elements_by_css_selector(\"div.u_cbox_text_wrap span.u_cbox_contents\")\n",
    "            \n",
    "                for j in range(len(comments)):\n",
    "                    comment=comments[j].text.replace(\",\",\"\")\n",
    "                    #견적요청 혹은 홍보와 관련된 댓글을 1차적으로 제외        \n",
    "                    if '견적' in comment:\n",
    "                        continue\n",
    "                    elif '.com' in comment:\n",
    "                        continue\n",
    "                    elif '렌트' in comment:\n",
    "                        continue\n",
    "                    else:\n",
    "                        try:\n",
    "                            f = open('naver_review.csv','a')\n",
    "                            f.write(f'\\n{maker},{c},{num},{comment}')\n",
    "                        except:\n",
    "                            continue\n",
    "                        f.close()\n",
    "                #1번 댓글을 보게되면 맨앞, 이전 버튼이 사라져서 해당 선택자가 없으면 n을 0으로 하고 while반복의 종료조건으로 둠\n",
    "                try:\n",
    "                    front = dr.find_element_by_css_selector(\"#comment_box_module > div > div.u_cbox_paginate > div > a.u_cbox_pre.u_cbox_pre_end > span.u_cbox_cnt_page\")\n",
    "                except:\n",
    "                    n=0"
   ]
  },
  {
   "cell_type": "markdown",
   "id": "8c644612",
   "metadata": {
    "id": "8c644612"
   },
   "source": [
    "#### 1-2) 다음자동차\n",
    "- 2021년 04월 19일 오후6시15분에 크롤링한 데이터를 분석에 사용하였다."
   ]
  },
  {
   "cell_type": "code",
   "execution_count": null,
   "id": "c64302bd",
   "metadata": {
    "id": "c64302bd"
   },
   "outputs": [],
   "source": [
    "f = open('daum_review.csv','w')\n",
    "f.write('score,comment')\n",
    "f.close()"
   ]
  },
  {
   "cell_type": "code",
   "execution_count": null,
   "id": "a2d1be2b",
   "metadata": {
    "id": "a2d1be2b"
   },
   "outputs": [],
   "source": [
    "url = ['https://auto.daum.net/newcar/model/m5pWKLBwz2p7', #현대 코나 F/L (1세대)\n",
    "       'https://auto.daum.net/newcar/model/miqPAv9RvY3w', #현대 코나 하이브리드 F/L (1세대)\n",
    "       'https://auto.daum.net/newcar/model/mi80000bxxy8', #현대 쏘나다 (8세대)\n",
    "       'https://auto.daum.net/newcar/model/mul0002sMM2d', #현대 쏘나다 하이브리드 (8세대)\n",
    "       'https://auto.daum.net/newcar/model/ma600020ppal', #현대 그랜저 F/L (6세대)\n",
    "       'https://auto.daum.net/newcar/model/mab00021ppcw', #현대 그랜저 하이브리드 F/L (6세대)\n",
    "       'https://auto.daum.net/newcar/model/mqa381027dvy', #현대 싼타페 F/L (4세대)\n",
    "       'https://auto.daum.net/newcar/model/mi50000vKK32', #현대 펠리세이드 (1세대)\n",
    "       'https://auto.daum.net/newcar/model/mmvn38WP51cm', #제네시스 G70 F/L (1세대)\n",
    "       'https://auto.daum.net/newcar/model/mwbRY0KZ90pp', #제네시스 GV70 (1세대)\n",
    "       'https://auto.daum.net/newcar/model/mlo0000eOOzs', #제네시스 G80 (3세대)\n",
    "       'https://auto.daum.net/newcar/model/mw70000uKKdl', #제네시스 G90 (1세대)\n",
    "       'https://auto.daum.net/newcar/model/mp8dbN6XDntm', #기아 K8 (1세대)\n",
    "       'https://auto.daum.net/newcar/model/ma000079lliy', #기아 K7 F/L (2세대)\n",
    "       'https://auto.daum.net/newcar/model/m9l0007flle5', #기아 K7 하이브리드 F/L (2세대)\n",
    "       'https://auto.daum.net/newcar/model/m2wWKA9kEx9t', #기아 스팅어 F/L (1세대)\n",
    "       'https://auto.daum.net/newcar/model/mm2rW5qZwM7t', #기아 카니발 (4세대)\n",
    "       'https://auto.daum.net/newcar/model/mij00002kkw7', #기아 쏘렌토 (4세대)\n",
    "       'https://auto.daum.net/newcar/model/m4x0000aOOma', #기아 쏘렌토 하이브리드 (4세대)\n",
    "       'https://auto.daum.net/newcar/model/m829Q7zeWB4s', #르노삼성 SM6 F/L (1세대)\n",
    "       'https://auto.daum.net/newcar/model/m0r00007kkav', #르노삼성 XM3 (1세대)\n",
    "       'https://auto.daum.net/newcar/model/m9e0007hll5k', #르노삼성 QM6 F/L (1세대)\n",
    "       'https://auto.daum.net/newcar/model/mapp2bqPBY35', #쌍용 렉스턴 F/L (2세대)\n",
    "       'https://auto.daum.net/newcar/model/mvc1GK5r9El6', #쌍용 렉스턴 스포츠 F/L (2세대)\n",
    "       'https://auto.daum.net/newcar/model/mvkaYJb89Eyi', #쌍용 렉스턴 스포츠 칸 F/L (2세대)\n",
    "       'https://auto.daum.net/newcar/model/mvr0000all1u', #쌍용 티볼리 F/L (1세대)\n",
    "       'https://auto.daum.net/newcar/model/m2v71DZA7Jpt', #쌍용 티볼리 에어 F/L (1세대)\n",
    "       'https://auto.daum.net/newcar/model/mef00006xxn2', #쌍용 코란도 (4세대)\n",
    "      ]"
   ]
  },
  {
   "cell_type": "code",
   "execution_count": null,
   "id": "78342f6d",
   "metadata": {
    "id": "78342f6d"
   },
   "outputs": [],
   "source": [
    "for u in url:\n",
    "    dr.get(u)\n",
    "    time.sleep(0.05)\n",
    "    while True:\n",
    "        try:\n",
    "            more = dr.find_element_by_css_selector(\"div.alex_more > button\")\n",
    "            more.click()\n",
    "            time.sleep(0.05)\n",
    "        except:\n",
    "            break\n",
    "    comments = dr.find_elements_by_css_selector('li > div > p')\n",
    "    scores = dr.find_elements_by_css_selector(\"div.ratings\")\n",
    "    for i in range(len(comments)):\n",
    "        comment = comments[i].text.replace(\",\",\"\").replace(\"\\n\",\"\")\n",
    "        score = scores[i].text\n",
    "        if '견적' in comment:\n",
    "            continue\n",
    "        elif '.com' in comment:\n",
    "            continue\n",
    "        elif '렌트' in comment:\n",
    "            continue\n",
    "        elif '딜러' in comment:\n",
    "            continue\n",
    "        else:\n",
    "            try:\n",
    "                f = open('daum_review.csv','a')\n",
    "                f.write(f'\\n{score},{comment}')\n",
    "            except:\n",
    "                continue\n",
    "            f.close()"
   ]
  },
  {
   "cell_type": "markdown",
   "id": "7f3c8f9a",
   "metadata": {
    "id": "7f3c8f9a"
   },
   "source": [
    "## 2. 데이터 전처리"
   ]
  },
  {
   "cell_type": "code",
   "execution_count": 2,
   "id": "4d13c452",
   "metadata": {
    "executionInfo": {
     "elapsed": 1090,
     "status": "ok",
     "timestamp": 1619185601612,
     "user": {
      "displayName": "­박준영[경영학부]",
      "photoUrl": "",
      "userId": "14019551026038677091"
     },
     "user_tz": -540
    },
    "id": "4d13c452"
   },
   "outputs": [],
   "source": [
    "import pandas as pd\n",
    "#import pickle"
   ]
  },
  {
   "cell_type": "code",
   "execution_count": 3,
   "id": "893ae6ed",
   "metadata": {
    "executionInfo": {
     "elapsed": 797,
     "status": "ok",
     "timestamp": 1619185603574,
     "user": {
      "displayName": "­박준영[경영학부]",
      "photoUrl": "",
      "userId": "14019551026038677091"
     },
     "user_tz": -540
    },
    "id": "893ae6ed"
   },
   "outputs": [],
   "source": [
    "\n",
    "naver = pd.read_csv('./naver_review_222.csv', encoding = 'cp949')\n",
    "daum = pd.read_csv('./daum_review_0615.csv', encoding = 'cp949')\n"
   ]
  },
  {
   "cell_type": "markdown",
   "id": "f60fb34a",
   "metadata": {
    "id": "f60fb34a"
   },
   "source": [
    "#### 분석 의도와 무관한 댓글 제거"
   ]
  },
  {
   "cell_type": "code",
   "execution_count": 5,
   "id": "c2be5254",
   "metadata": {
    "executionInfo": {
     "elapsed": 958,
     "status": "ok",
     "timestamp": 1619185607597,
     "user": {
      "displayName": "­박준영[경영학부]",
      "photoUrl": "",
      "userId": "14019551026038677091"
     },
     "user_tz": -540
    },
    "id": "c2be5254"
   },
   "outputs": [],
   "source": [
    "delete = ['오토론', 'president', '딜러', '@네이버', '@naver', '@hanmail', 'band.us', '현금지원', '렌터', 'blog', '온라인']"
   ]
  },
  {
   "cell_type": "code",
   "execution_count": 6,
   "id": "95e0ee67",
   "metadata": {
    "colab": {
     "base_uri": "https://localhost:8080/"
    },
    "executionInfo": {
     "elapsed": 1899,
     "status": "ok",
     "timestamp": 1619185608542,
     "user": {
      "displayName": "­박준영[경영학부]",
      "photoUrl": "",
      "userId": "14019551026038677091"
     },
     "user_tz": -540
    },
    "id": "95e0ee67",
    "outputId": "39d82979-d284-4da8-c222-530ebc6a8081"
   },
   "outputs": [
    {
     "name": "stdout",
     "output_type": "stream",
     "text": [
      "총 88개의 댓글 삭제\n"
     ]
    }
   ],
   "source": [
    "idx = 0\n",
    "idx_n = []\n",
    "for i in range(len(naver.comment)):\n",
    "    if any(d in naver.comment[i] for d in delete):\n",
    "        idx_n.append(idx)\n",
    "        idx+=1\n",
    "    else:\n",
    "        idx+=1\n",
    "print(f'총 {len(idx_n)}개의 댓글 삭제')"
   ]
  },
  {
   "cell_type": "code",
   "execution_count": 7,
   "id": "e6204e40",
   "metadata": {
    "colab": {
     "base_uri": "https://localhost:8080/"
    },
    "executionInfo": {
     "elapsed": 2405,
     "status": "ok",
     "timestamp": 1619185609052,
     "user": {
      "displayName": "­박준영[경영학부]",
      "photoUrl": "",
      "userId": "14019551026038677091"
     },
     "user_tz": -540
    },
    "id": "e6204e40",
    "outputId": "55675fed-23f7-489b-bbc5-9843e426d639"
   },
   "outputs": [
    {
     "name": "stdout",
     "output_type": "stream",
     "text": [
      "총 2개의 댓글 삭제\n"
     ]
    }
   ],
   "source": [
    "idx = 0\n",
    "idx_d = []\n",
    "for i in range(len(daum.comment)):\n",
    "    if any(d in daum.comment[i] for d in delete):\n",
    "        idx_d.append(idx)\n",
    "        idx+=1\n",
    "    else:\n",
    "        idx+=1\n",
    "print(f'총 {len(idx_d)}개의 댓글 삭제')"
   ]
  },
  {
   "cell_type": "code",
   "execution_count": 8,
   "id": "feddf187",
   "metadata": {
    "executionInfo": {
     "elapsed": 2401,
     "status": "ok",
     "timestamp": 1619185609052,
     "user": {
      "displayName": "­박준영[경영학부]",
      "photoUrl": "",
      "userId": "14019551026038677091"
     },
     "user_tz": -540
    },
    "id": "feddf187"
   },
   "outputs": [],
   "source": [
    "naver = naver.query('index not in @idx_n').reset_index().drop(columns='index')\n",
    "daum = daum.query('index not in @idx_d').reset_index().drop(columns='index')"
   ]
  },
  {
   "cell_type": "code",
   "execution_count": 9,
   "id": "9579fde4",
   "metadata": {
    "executionInfo": {
     "elapsed": 2398,
     "status": "ok",
     "timestamp": 1619185609053,
     "user": {
      "displayName": "­박준영[경영학부]",
      "photoUrl": "",
      "userId": "14019551026038677091"
     },
     "user_tz": -540
    },
    "id": "9579fde4"
   },
   "outputs": [],
   "source": [
    "#### 중복 댓글 제거"
   ]
  },
  {
   "cell_type": "code",
   "execution_count": 10,
   "id": "6e8cab34",
   "metadata": {
    "executionInfo": {
     "elapsed": 2395,
     "status": "ok",
     "timestamp": 1619185609053,
     "user": {
      "displayName": "­박준영[경영학부]",
      "photoUrl": "",
      "userId": "14019551026038677091"
     },
     "user_tz": -540
    },
    "id": "6e8cab34"
   },
   "outputs": [],
   "source": [
    "naver.drop_duplicates(subset=['comment'],inplace=True)\n",
    "daum.drop_duplicates(subset=['comment'],inplace=True)"
   ]
  },
  {
   "cell_type": "code",
   "execution_count": 11,
   "id": "5aab5e82",
   "metadata": {
    "executionInfo": {
     "elapsed": 2391,
     "status": "ok",
     "timestamp": 1619185609053,
     "user": {
      "displayName": "­박준영[경영학부]",
      "photoUrl": "",
      "userId": "14019551026038677091"
     },
     "user_tz": -540
    },
    "id": "5aab5e82"
   },
   "outputs": [],
   "source": [
    "naver=naver.reset_index().drop(columns='index')\n",
    "daum=daum.reset_index().drop(columns='index')"
   ]
  },
  {
   "cell_type": "code",
   "execution_count": null,
   "id": "509X2TtBQRSH",
   "metadata": {
    "executionInfo": {
     "elapsed": 2388,
     "status": "ok",
     "timestamp": 1619185609054,
     "user": {
      "displayName": "­박준영[경영학부]",
      "photoUrl": "",
      "userId": "14019551026038677091"
     },
     "user_tz": -540
    },
    "id": "509X2TtBQRSH"
   },
   "outputs": [],
   "source": []
  },
  {
   "cell_type": "markdown",
   "id": "49d9c6c6",
   "metadata": {
    "id": "49d9c6c6"
   },
   "source": [
    "#### 불용어구"
   ]
  },
  {
   "cell_type": "code",
   "execution_count": 12,
   "id": "182ccf09",
   "metadata": {
    "executionInfo": {
     "elapsed": 771,
     "status": "ok",
     "timestamp": 1619185616592,
     "user": {
      "displayName": "­박준영[경영학부]",
      "photoUrl": "",
      "userId": "14019551026038677091"
     },
     "user_tz": -540
    },
    "id": "182ccf09"
   },
   "outputs": [],
   "source": [
    "# https://shinminyong.tistory.com/4 참고 및 인용\n",
    "\n",
    "import re\n",
    "\n",
    "#이모티콘 제거\n",
    "emoji_pattern = re.compile(\"[\"\n",
    "        u\"\\U0001F600-\\U0001F64F\"  # emoticons\n",
    "        u\"\\U0001F300-\\U0001F5FF\"  # symbols & pictographs\n",
    "        u\"\\U0001F680-\\U0001F6FF\"  # transport & map symbols\n",
    "        u\"\\U0001F1E0-\\U0001F1FF\"  # flags (iOS)\n",
    "                           \"]+\", flags=re.UNICODE)\n",
    "\n",
    "#분석에 어긋나는 불용어구 제외 (특수문자, 의성어)\n",
    "han = re.compile(r'[ㄱ-ㅎㅏ-ㅣ!?></&|~+=,\".\\n\\r#\\ufeff\\u200d]')"
   ]
  },
  {
   "cell_type": "code",
   "execution_count": 13,
   "id": "4e6bda3d",
   "metadata": {
    "executionInfo": {
     "elapsed": 3382,
     "status": "ok",
     "timestamp": 1619185623124,
     "user": {
      "displayName": "­박준영[경영학부]",
      "photoUrl": "",
      "userId": "14019551026038677091"
     },
     "user_tz": -540
    },
    "id": "4e6bda3d"
   },
   "outputs": [],
   "source": [
    "n=0\n",
    "for i in naver.comment:\n",
    "    tokens = re.sub(emoji_pattern,\"\",i)\n",
    "    tokens = re.sub(han,\"\",tokens)\n",
    "    naver.loc[n,'comment'] = tokens\n",
    "    n+=1"
   ]
  },
  {
   "cell_type": "code",
   "execution_count": 14,
   "id": "7e2ca19a",
   "metadata": {
    "executionInfo": {
     "elapsed": 4890,
     "status": "ok",
     "timestamp": 1619185624808,
     "user": {
      "displayName": "­박준영[경영학부]",
      "photoUrl": "",
      "userId": "14019551026038677091"
     },
     "user_tz": -540
    },
    "id": "7e2ca19a"
   },
   "outputs": [],
   "source": [
    "n=0\n",
    "for i in daum.comment:\n",
    "    tokens = re.sub(emoji_pattern,\"\",i)\n",
    "    tokens = re.sub(han,\"\",tokens)\n",
    "    daum.loc[n,'comment'] = tokens\n",
    "    n+=1"
   ]
  },
  {
   "cell_type": "code",
   "execution_count": 15,
   "id": "L01Qi985oKLj",
   "metadata": {
    "colab": {
     "base_uri": "https://localhost:8080/",
     "height": 35
    },
    "executionInfo": {
     "elapsed": 2754,
     "status": "ok",
     "timestamp": 1619185624810,
     "user": {
      "displayName": "­박준영[경영학부]",
      "photoUrl": "",
      "userId": "14019551026038677091"
     },
     "user_tz": -540
    },
    "id": "L01Qi985oKLj",
    "outputId": "8ecfac51-1abe-466d-e272-4ee06e34e37c"
   },
   "outputs": [
    {
     "data": {
      "text/plain": [
       "'LPG 모델 매우만족 실연비 97 정도 나옴'"
      ]
     },
     "execution_count": 15,
     "metadata": {},
     "output_type": "execute_result"
    }
   ],
   "source": [
    "daum.comment[2435]"
   ]
  },
  {
   "cell_type": "markdown",
   "id": "kP9CkjLM3RYB",
   "metadata": {
    "id": "kP9CkjLM3RYB"
   },
   "source": [
    "#### 띄어쓰기 및 맞춤법 전처리\n",
    " - https://github.com/ssut/py-hanspell\n",
    " - 실행시간이 총 30분 정도로 이 과정을 거친 후 피클로 저장한 뒤 분석에 사용\n"
   ]
  },
  {
   "cell_type": "code",
   "execution_count": 16,
   "id": "HQgmSCWm_KJv",
   "metadata": {
    "colab": {
     "base_uri": "https://localhost:8080/"
    },
    "executionInfo": {
     "elapsed": 6518,
     "status": "ok",
     "timestamp": 1619185641171,
     "user": {
      "displayName": "­박준영[경영학부]",
      "photoUrl": "",
      "userId": "14019551026038677091"
     },
     "user_tz": -540
    },
    "id": "HQgmSCWm_KJv",
    "outputId": "f0b83e17-bb5e-42ee-a01c-849b99c479b3"
   },
   "outputs": [
    {
     "name": "stdout",
     "output_type": "stream",
     "text": [
      "Collecting git+https://github.com/ssut/py-hanspell.git\n",
      "  Cloning https://github.com/ssut/py-hanspell.git to c:\\users\\junyoung\\appdata\\local\\temp\\pip-req-build-udd7xh3g\n",
      "  Resolved https://github.com/ssut/py-hanspell.git to commit fdc6ca50c19f1c85971437a072d89d4e5ce024b8\n",
      "  Preparing metadata (setup.py): started\n",
      "  Preparing metadata (setup.py): finished with status 'done'\n",
      "Requirement already satisfied: requests in d:\\anaconda3\\lib\\site-packages (from py-hanspell==1.1) (2.28.1)\n",
      "Requirement already satisfied: certifi>=2017.4.17 in d:\\anaconda3\\lib\\site-packages (from requests->py-hanspell==1.1) (2022.9.14)\n",
      "Requirement already satisfied: urllib3<1.27,>=1.21.1 in d:\\anaconda3\\lib\\site-packages (from requests->py-hanspell==1.1) (1.22)\n",
      "Requirement already satisfied: idna<4,>=2.5 in d:\\anaconda3\\lib\\site-packages (from requests->py-hanspell==1.1) (2.6)\n",
      "Requirement already satisfied: charset-normalizer<3,>=2 in d:\\anaconda3\\lib\\site-packages (from requests->py-hanspell==1.1) (2.0.4)\n",
      "Building wheels for collected packages: py-hanspell\n",
      "  Building wheel for py-hanspell (setup.py): started\n",
      "  Building wheel for py-hanspell (setup.py): finished with status 'done'\n",
      "  Created wheel for py-hanspell: filename=py_hanspell-1.1-py3-none-any.whl size=4850 sha256=2af9764aaa9666755501c76e2f6161b366a4e6127977ff9e200bcb7d86d59a08\n",
      "  Stored in directory: C:\\Users\\JUNYOUNG\\AppData\\Local\\Temp\\pip-ephem-wheel-cache-lxiqhwag\\wheels\\94\\bc\\ef\\2cb90c305d609f8086489e7e1bd69f21e955118f26938609b7\n",
      "Successfully built py-hanspell\n",
      "Installing collected packages: py-hanspell\n",
      "Successfully installed py-hanspell-1.1\n"
     ]
    },
    {
     "name": "stderr",
     "output_type": "stream",
     "text": [
      "  Running command git clone --filter=blob:none --quiet https://github.com/ssut/py-hanspell.git 'C:\\Users\\JUNYOUNG\\AppData\\Local\\Temp\\pip-req-build-udd7xh3g'\n"
     ]
    }
   ],
   "source": [
    "!pip install git+https://github.com/ssut/py-hanspell.git"
   ]
  },
  {
   "cell_type": "code",
   "execution_count": 17,
   "id": "H_g852aL_NVM",
   "metadata": {
    "executionInfo": {
     "elapsed": 6260,
     "status": "ok",
     "timestamp": 1619185641172,
     "user": {
      "displayName": "­박준영[경영학부]",
      "photoUrl": "",
      "userId": "14019551026038677091"
     },
     "user_tz": -540
    },
    "id": "H_g852aL_NVM"
   },
   "outputs": [],
   "source": [
    "from hanspell import spell_checker"
   ]
  },
  {
   "cell_type": "code",
   "execution_count": 19,
   "id": "a8945f84",
   "metadata": {},
   "outputs": [
    {
     "data": {
      "text/html": [
       "<div>\n",
       "<style scoped>\n",
       "    .dataframe tbody tr th:only-of-type {\n",
       "        vertical-align: middle;\n",
       "    }\n",
       "\n",
       "    .dataframe tbody tr th {\n",
       "        vertical-align: top;\n",
       "    }\n",
       "\n",
       "    .dataframe thead th {\n",
       "        text-align: right;\n",
       "    }\n",
       "</style>\n",
       "<table border=\"1\" class=\"dataframe\">\n",
       "  <thead>\n",
       "    <tr style=\"text-align: right;\">\n",
       "      <th></th>\n",
       "      <th>maker</th>\n",
       "      <th>car</th>\n",
       "      <th>car_num</th>\n",
       "      <th>comment</th>\n",
       "    </tr>\n",
       "  </thead>\n",
       "  <tbody>\n",
       "    <tr>\n",
       "      <th>0</th>\n",
       "      <td>KIA</td>\n",
       "      <td>2021K8</td>\n",
       "      <td>144093</td>\n",
       "      <td>기아가 디자인 하나는 참 잘 뽑아</td>\n",
       "    </tr>\n",
       "    <tr>\n",
       "      <th>1</th>\n",
       "      <td>KIA</td>\n",
       "      <td>2021K8</td>\n",
       "      <td>144093</td>\n",
       "      <td>이거 엄청 좋을것 같네요 기대 됩니다</td>\n",
       "    </tr>\n",
       "    <tr>\n",
       "      <th>2</th>\n",
       "      <td>KIA</td>\n",
       "      <td>2021K8</td>\n",
       "      <td>144093</td>\n",
       "      <td>나와봐야안다  이쁘다 이상하다 호불호  사고싶다 돈이없다  눈으로만 본다</td>\n",
       "    </tr>\n",
       "    <tr>\n",
       "      <th>3</th>\n",
       "      <td>KIA</td>\n",
       "      <td>2021K8</td>\n",
       "      <td>144093</td>\n",
       "      <td>막상 또 보면 모름 나는 싼타페tm신형 별로라 생각했는데 직접보니가 이쁘고 웅장했음...</td>\n",
       "    </tr>\n",
       "    <tr>\n",
       "      <th>4</th>\n",
       "      <td>KIA</td>\n",
       "      <td>2021K8</td>\n",
       "      <td>144093</td>\n",
       "      <td>미친 마름모에디션 그랜져보다 훨씬 나을듯</td>\n",
       "    </tr>\n",
       "    <tr>\n",
       "      <th>...</th>\n",
       "      <td>...</td>\n",
       "      <td>...</td>\n",
       "      <td>...</td>\n",
       "      <td>...</td>\n",
       "    </tr>\n",
       "    <tr>\n",
       "      <th>5596</th>\n",
       "      <td>SAMSUNG</td>\n",
       "      <td>2021SM6</td>\n",
       "      <td>140313</td>\n",
       "      <td>이차는 언제쯤 변속기가 달라질까</td>\n",
       "    </tr>\n",
       "    <tr>\n",
       "      <th>5597</th>\n",
       "      <td>SAMSUNG</td>\n",
       "      <td>2021SM6</td>\n",
       "      <td>140313</td>\n",
       "      <td>옵션질 지리네 1000만원</td>\n",
       "    </tr>\n",
       "    <tr>\n",
       "      <th>5598</th>\n",
       "      <td>SAMSUNG</td>\n",
       "      <td>2021SM6</td>\n",
       "      <td>140313</td>\n",
       "      <td>tce260 4달째 타고있는중인데 출력부분은 국내 어지간한 2000cc미만 터보차량...</td>\n",
       "    </tr>\n",
       "    <tr>\n",
       "      <th>5599</th>\n",
       "      <td>SAMSUNG</td>\n",
       "      <td>2021SM6</td>\n",
       "      <td>140313</td>\n",
       "      <td>전 LPE LE 리스로 3월이면 5년 딱 타는데 저는 아직 잘 탑니다 워낙 둔감해서...</td>\n",
       "    </tr>\n",
       "    <tr>\n",
       "      <th>5600</th>\n",
       "      <td>SAMSUNG</td>\n",
       "      <td>2021SM6</td>\n",
       "      <td>140313</td>\n",
       "      <td>개인적으로 sm6차량을 좋아합니다 가격을 착하게 내놔서 현기에 독점을 막아주었음 하...</td>\n",
       "    </tr>\n",
       "  </tbody>\n",
       "</table>\n",
       "<p>5601 rows × 4 columns</p>\n",
       "</div>"
      ],
      "text/plain": [
       "        maker      car  car_num  \\\n",
       "0         KIA   2021K8   144093   \n",
       "1         KIA   2021K8   144093   \n",
       "2         KIA   2021K8   144093   \n",
       "3         KIA   2021K8   144093   \n",
       "4         KIA   2021K8   144093   \n",
       "...       ...      ...      ...   \n",
       "5596  SAMSUNG  2021SM6   140313   \n",
       "5597  SAMSUNG  2021SM6   140313   \n",
       "5598  SAMSUNG  2021SM6   140313   \n",
       "5599  SAMSUNG  2021SM6   140313   \n",
       "5600  SAMSUNG  2021SM6   140313   \n",
       "\n",
       "                                                comment  \n",
       "0                                    기아가 디자인 하나는 참 잘 뽑아  \n",
       "1                                  이거 엄청 좋을것 같네요 기대 됩니다  \n",
       "2              나와봐야안다  이쁘다 이상하다 호불호  사고싶다 돈이없다  눈으로만 본다  \n",
       "3     막상 또 보면 모름 나는 싼타페tm신형 별로라 생각했는데 직접보니가 이쁘고 웅장했음...  \n",
       "4                                미친 마름모에디션 그랜져보다 훨씬 나을듯  \n",
       "...                                                 ...  \n",
       "5596                                  이차는 언제쯤 변속기가 달라질까  \n",
       "5597                                    옵션질 지리네 1000만원   \n",
       "5598  tce260 4달째 타고있는중인데 출력부분은 국내 어지간한 2000cc미만 터보차량...  \n",
       "5599  전 LPE LE 리스로 3월이면 5년 딱 타는데 저는 아직 잘 탑니다 워낙 둔감해서...  \n",
       "5600  개인적으로 sm6차량을 좋아합니다 가격을 착하게 내놔서 현기에 독점을 막아주었음 하...  \n",
       "\n",
       "[5601 rows x 4 columns]"
      ]
     },
     "execution_count": 19,
     "metadata": {},
     "output_type": "execute_result"
    }
   ],
   "source": [
    "naver"
   ]
  },
  {
   "cell_type": "code",
   "execution_count": 20,
   "id": "u1dRIlAv6gGV",
   "metadata": {
    "executionInfo": {
     "elapsed": 1417031,
     "status": "ok",
     "timestamp": 1619187066481,
     "user": {
      "displayName": "­박준영[경영학부]",
      "photoUrl": "",
      "userId": "14019551026038677091"
     },
     "user_tz": -540
    },
    "id": "u1dRIlAv6gGV"
   },
   "outputs": [
    {
     "ename": "KeyError",
     "evalue": "'result'",
     "output_type": "error",
     "traceback": [
      "\u001b[1;31m---------------------------------------------------------------------------\u001b[0m",
      "\u001b[1;31mKeyError\u001b[0m                                  Traceback (most recent call last)",
      "\u001b[1;32m~\\AppData\\Local\\Temp\\ipykernel_2800\\3176724782.py\u001b[0m in \u001b[0;36m<module>\u001b[1;34m\u001b[0m\n\u001b[0;32m      1\u001b[0m \u001b[0mr\u001b[0m \u001b[1;33m=\u001b[0m \u001b[1;36m0\u001b[0m\u001b[1;33m\u001b[0m\u001b[1;33m\u001b[0m\u001b[0m\n\u001b[0;32m      2\u001b[0m \u001b[1;32mfor\u001b[0m \u001b[0mn\u001b[0m \u001b[1;32min\u001b[0m \u001b[0mnaver\u001b[0m\u001b[1;33m.\u001b[0m\u001b[0mcomment\u001b[0m\u001b[1;33m:\u001b[0m\u001b[1;33m\u001b[0m\u001b[1;33m\u001b[0m\u001b[0m\n\u001b[1;32m----> 3\u001b[1;33m     \u001b[0mnaver\u001b[0m\u001b[1;33m.\u001b[0m\u001b[0mloc\u001b[0m\u001b[1;33m[\u001b[0m\u001b[0mr\u001b[0m\u001b[1;33m,\u001b[0m\u001b[1;34m'comment'\u001b[0m\u001b[1;33m]\u001b[0m \u001b[1;33m=\u001b[0m \u001b[0mspell_checker\u001b[0m\u001b[1;33m.\u001b[0m\u001b[0mcheck\u001b[0m\u001b[1;33m(\u001b[0m\u001b[0mn\u001b[0m\u001b[1;33m)\u001b[0m\u001b[1;33m.\u001b[0m\u001b[0mchecked\u001b[0m\u001b[1;33m\u001b[0m\u001b[1;33m\u001b[0m\u001b[0m\n\u001b[0m\u001b[0;32m      4\u001b[0m     \u001b[0mr\u001b[0m\u001b[1;33m+=\u001b[0m\u001b[1;36m1\u001b[0m\u001b[1;33m\u001b[0m\u001b[1;33m\u001b[0m\u001b[0m\n",
      "\u001b[1;32mD:\\anaconda3\\lib\\site-packages\\hanspell\\spell_checker.py\u001b[0m in \u001b[0;36mcheck\u001b[1;34m(text)\u001b[0m\n\u001b[0;32m     60\u001b[0m \u001b[1;33m\u001b[0m\u001b[0m\n\u001b[0;32m     61\u001b[0m     \u001b[0mdata\u001b[0m \u001b[1;33m=\u001b[0m \u001b[0mjson\u001b[0m\u001b[1;33m.\u001b[0m\u001b[0mloads\u001b[0m\u001b[1;33m(\u001b[0m\u001b[0mr\u001b[0m\u001b[1;33m.\u001b[0m\u001b[0mtext\u001b[0m\u001b[1;33m)\u001b[0m\u001b[1;33m\u001b[0m\u001b[1;33m\u001b[0m\u001b[0m\n\u001b[1;32m---> 62\u001b[1;33m     \u001b[0mhtml\u001b[0m \u001b[1;33m=\u001b[0m \u001b[0mdata\u001b[0m\u001b[1;33m[\u001b[0m\u001b[1;34m'message'\u001b[0m\u001b[1;33m]\u001b[0m\u001b[1;33m[\u001b[0m\u001b[1;34m'result'\u001b[0m\u001b[1;33m]\u001b[0m\u001b[1;33m[\u001b[0m\u001b[1;34m'html'\u001b[0m\u001b[1;33m]\u001b[0m\u001b[1;33m\u001b[0m\u001b[1;33m\u001b[0m\u001b[0m\n\u001b[0m\u001b[0;32m     63\u001b[0m     result = {\n\u001b[0;32m     64\u001b[0m         \u001b[1;34m'result'\u001b[0m\u001b[1;33m:\u001b[0m \u001b[1;32mTrue\u001b[0m\u001b[1;33m,\u001b[0m\u001b[1;33m\u001b[0m\u001b[1;33m\u001b[0m\u001b[0m\n",
      "\u001b[1;31mKeyError\u001b[0m: 'result'"
     ]
    }
   ],
   "source": [
    "r = 0\n",
    "for n in naver.comment:\n",
    "    naver.loc[r,'comment'] = spell_checker.check(n).checked\n",
    "    r+=1"
   ]
  },
  {
   "cell_type": "code",
   "execution_count": null,
   "id": "TWfCV-h3UdUt",
   "metadata": {
    "executionInfo": {
     "elapsed": 702049,
     "status": "ok",
     "timestamp": 1619188477748,
     "user": {
      "displayName": "­박준영[경영학부]",
      "photoUrl": "",
      "userId": "14019551026038677091"
     },
     "user_tz": -540
    },
    "id": "TWfCV-h3UdUt"
   },
   "outputs": [],
   "source": [
    "r = 0\n",
    "\n",
    "for n in daum.comment:\n",
    "  daum.loc[r,'comment'] = spell_checker.check(n).checked\n",
    "  r+=1"
   ]
  },
  {
   "cell_type": "code",
   "execution_count": null,
   "id": "xiNjPw6hkgN-",
   "metadata": {
    "executionInfo": {
     "elapsed": 2071,
     "status": "ok",
     "timestamp": 1619188495630,
     "user": {
      "displayName": "­박준영[경영학부]",
      "photoUrl": "",
      "userId": "14019551026038677091"
     },
     "user_tz": -540
    },
    "id": "xiNjPw6hkgN-"
   },
   "outputs": [],
   "source": [
    "import pickle\n",
    "naver.to_pickle('./naver_hanspell.pkl')\n",
    "daum.to_pickle('./daum_hanspell.pkl')"
   ]
  },
  {
   "cell_type": "markdown",
   "id": "6e6151c4",
   "metadata": {
    "id": "6e6151c4"
   },
   "source": [
    "#### 다음자동차 댓글 평점 긍정/부정\n",
    " - 평점3점 댓글을 읽어본 결과 대체적으로 부정의 성향을 띄어 별점4, 5점을 긍정으로 라벨링하였다."
   ]
  },
  {
   "cell_type": "code",
   "execution_count": null,
   "id": "S4toOmUjlaY5",
   "metadata": {
    "executionInfo": {
     "elapsed": 773,
     "status": "ok",
     "timestamp": 1619197716800,
     "user": {
      "displayName": "­박준영[경영학부]",
      "photoUrl": "",
      "userId": "14019551026038677091"
     },
     "user_tz": -540
    },
    "id": "S4toOmUjlaY5"
   },
   "outputs": [],
   "source": [
    "import pandas as pd\n",
    "naver = pd.read_pickle('/content/drive/MyDrive/Colab Notebooks/naver_hanspell.pkl')\n",
    "daum = pd.read_pickle('/content/drive/MyDrive/Colab Notebooks/daum_hanspell.pkl')\n",
    "\n",
    "# 앞의 hanspell_check를 실행하면 '가성비'라는 단어가 '구성비'로 변경되어 다시 되돌려준다.\n",
    "naver.comment = naver.comment.apply(lambda x: x.replace('구성비','가성비'))\n",
    "daum.comment = daum.comment.apply(lambda x: x.replace('구성비','가성비'))"
   ]
  },
  {
   "cell_type": "markdown",
   "id": "e08fb38c",
   "metadata": {
    "id": "e08fb38c"
   },
   "source": [
    "#### comment란이 빈 경우"
   ]
  },
  {
   "cell_type": "code",
   "execution_count": null,
   "id": "PscKfMwSmdQB",
   "metadata": {
    "colab": {
     "base_uri": "https://localhost:8080/"
    },
    "executionInfo": {
     "elapsed": 4479,
     "status": "ok",
     "timestamp": 1619197724066,
     "user": {
      "displayName": "­박준영[경영학부]",
      "photoUrl": "",
      "userId": "14019551026038677091"
     },
     "user_tz": -540
    },
    "id": "PscKfMwSmdQB",
    "outputId": "bb005365-75fe-4b37-cc6d-fb37ad66345b"
   },
   "outputs": [],
   "source": [
    "naver.shape, daum.shape"
   ]
  },
  {
   "cell_type": "code",
   "execution_count": 23,
   "id": "8615401d",
   "metadata": {
    "colab": {
     "base_uri": "https://localhost:8080/"
    },
    "executionInfo": {
     "elapsed": 834,
     "status": "ok",
     "timestamp": 1619197726029,
     "user": {
      "displayName": "­박준영[경영학부]",
      "photoUrl": "",
      "userId": "14019551026038677091"
     },
     "user_tz": -540
    },
    "id": "8615401d",
    "outputId": "b413635f-35f0-45bb-b50c-39c90bd787e7"
   },
   "outputs": [
    {
     "name": "stdout",
     "output_type": "stream",
     "text": [
      "네이버 댓글 : 14\n",
      "다음 댓글 : 15\n"
     ]
    }
   ],
   "source": [
    "print(f\"네이버 댓글 : {naver[naver.comment==''].shape[0]}\\n다음 댓글 : {daum[daum.comment==''].shape[0]}\")"
   ]
  },
  {
   "cell_type": "code",
   "execution_count": 24,
   "id": "5ef90cf9",
   "metadata": {
    "executionInfo": {
     "elapsed": 983,
     "status": "ok",
     "timestamp": 1619197726506,
     "user": {
      "displayName": "­박준영[경영학부]",
      "photoUrl": "",
      "userId": "14019551026038677091"
     },
     "user_tz": -540
    },
    "id": "5ef90cf9"
   },
   "outputs": [],
   "source": [
    "idx = naver[naver.comment==''].index\n",
    "\n",
    "naver = naver.query('index not in @idx').reset_index().drop(columns='index')\n",
    "\n",
    "idx = daum[daum.comment==''].index\n",
    "\n",
    "daum = daum.query('index not in @idx').reset_index().drop(columns='index')\n"
   ]
  },
  {
   "cell_type": "code",
   "execution_count": 25,
   "id": "uFyyVwvT2_ub",
   "metadata": {
    "colab": {
     "base_uri": "https://localhost:8080/"
    },
    "executionInfo": {
     "elapsed": 674,
     "status": "ok",
     "timestamp": 1619197726973,
     "user": {
      "displayName": "­박준영[경영학부]",
      "photoUrl": "",
      "userId": "14019551026038677091"
     },
     "user_tz": -540
    },
    "id": "uFyyVwvT2_ub",
    "outputId": "6cccda60-f6b1-4094-b190-875617baa7ae"
   },
   "outputs": [
    {
     "data": {
      "text/plain": [
       "((5587, 4), (3043, 3))"
      ]
     },
     "execution_count": 25,
     "metadata": {},
     "output_type": "execute_result"
    }
   ],
   "source": [
    "naver.shape, daum.shape"
   ]
  },
  {
   "cell_type": "markdown",
   "id": "2AiTSI1Ws079",
   "metadata": {
    "id": "2AiTSI1Ws079"
   },
   "source": [
    "#### 분석에 사용할 데이터 csv로 저장"
   ]
  },
  {
   "cell_type": "code",
   "execution_count": null,
   "id": "c6R-McD-szYb",
   "metadata": {
    "executionInfo": {
     "elapsed": 937,
     "status": "ok",
     "timestamp": 1619197730307,
     "user": {
      "displayName": "­박준영[경영학부]",
      "photoUrl": "",
      "userId": "14019551026038677091"
     },
     "user_tz": -540
    },
    "id": "c6R-McD-szYb"
   },
   "outputs": [],
   "source": [
    "naver.to_csv('/content/drive/MyDrive/Colab Notebooks/naver_af.csv', encoding='cp949')\n",
    "daum.to_csv('/content/drive/MyDrive/Colab Notebooks/daum_af.csv', encoding='cp949')\n"
   ]
  },
  {
   "cell_type": "markdown",
   "id": "K8UksNMDXNff",
   "metadata": {
    "id": "K8UksNMDXNff"
   },
   "source": [
    "## 3. 단어 빈도"
   ]
  },
  {
   "cell_type": "markdown",
   "id": "MrKNAFe6ZlST",
   "metadata": {
    "id": "MrKNAFe6ZlST"
   },
   "source": [
    "- 두 데이터의 단어빈도가 높은 10개의 단어를 확인해본 결과 상위 10개의 단어 중 \n",
    "['차', '디자인', '가격', '옵션', '사람', '생각'] 총 6개의 단어가 공통적으로 나타났다.\n",
    "\n",
    "- 차에 대한 댓글이라서 '차'라는 단어가 많이 포함되어있고 댓글 내용은 대부분 '디자인', '가격', '옵션' 에 대해 다루고 있다. 이것을 통해 유추해본다면 디자인, 가격, 옵션에 대한 사람들의 평가가 곧 댓글의 긍정 혹은 부정을 나타낼 것이다.\n",
    "\n",
    "- '생각'이라는 단어는 확인해 본 결과 본인이 차에 대해 어떻게 생각하는 지에 대해 적다보니 '내 생각은' 혹은 '생각보다 비싸네' 와 같이 자주 사용되었다.\n",
    "\n",
    "- '사람'이라는 단어는 '이런 사람에게 추천해요', '이런 차 사는 사람도 있나'와 같이 불특정 대상을 지칭하기 위해 주로 사용된 것으로 보인다."
   ]
  },
  {
   "cell_type": "markdown",
   "id": "InEWSlWYtVBn",
   "metadata": {
    "id": "InEWSlWYtVBn"
   },
   "source": [
    "#### 분석에 사용할 csv 파일 불러오기"
   ]
  },
  {
   "cell_type": "code",
   "execution_count": 1,
   "id": "NPUurBGetMK3",
   "metadata": {
    "executionInfo": {
     "elapsed": 798,
     "status": "ok",
     "timestamp": 1619198199815,
     "user": {
      "displayName": "­박준영[경영학부]",
      "photoUrl": "",
      "userId": "14019551026038677091"
     },
     "user_tz": -540
    },
    "id": "NPUurBGetMK3"
   },
   "outputs": [],
   "source": [
    "import pandas as pd\n",
    "naver = pd.read_csv('naver_af.csv', encoding='cp949')\n",
    "daum = pd.read_csv('daum_af.csv', encoding='cp949')"
   ]
  },
  {
   "cell_type": "markdown",
   "id": "rQHw7LMStaCO",
   "metadata": {
    "id": "rQHw7LMStaCO"
   },
   "source": [
    "#### 형태소 분석 및 단어 문서 행렬"
   ]
  },
  {
   "cell_type": "code",
   "execution_count": 2,
   "id": "20f6d0b0",
   "metadata": {
    "colab": {
     "base_uri": "https://localhost:8080/"
    },
    "executionInfo": {
     "elapsed": 3809,
     "status": "ok",
     "timestamp": 1619198202828,
     "user": {
      "displayName": "­박준영[경영학부]",
      "photoUrl": "",
      "userId": "14019551026038677091"
     },
     "user_tz": -540
    },
    "id": "20f6d0b0",
    "outputId": "9fd36e61-de68-41d7-e742-ee79eacf9223"
   },
   "outputs": [
    {
     "name": "stdout",
     "output_type": "stream",
     "text": [
      "Requirement already satisfied: kiwipiepy in d:\\anaconda3\\lib\\site-packages (0.20.4)\n",
      "Requirement already satisfied: kiwipiepy_model<0.21,>=0.20 in d:\\anaconda3\\lib\\site-packages (from kiwipiepy) (0.20.0)\n",
      "Requirement already satisfied: tqdm in d:\\anaconda3\\lib\\site-packages (from kiwipiepy) (4.64.1)\n",
      "Requirement already satisfied: numpy in d:\\anaconda3\\lib\\site-packages (from kiwipiepy) (1.21.5)\n",
      "Requirement already satisfied: colorama in d:\\anaconda3\\lib\\site-packages (from tqdm->kiwipiepy) (0.4.5)\n"
     ]
    }
   ],
   "source": [
    "!pip install kiwipiepy"
   ]
  },
  {
   "cell_type": "code",
   "execution_count": 3,
   "id": "YwZ9Hlgwm8tY",
   "metadata": {
    "executionInfo": {
     "elapsed": 3805,
     "status": "ok",
     "timestamp": 1619198202828,
     "user": {
      "displayName": "­박준영[경영학부]",
      "photoUrl": "",
      "userId": "14019551026038677091"
     },
     "user_tz": -540
    },
    "id": "YwZ9Hlgwm8tY"
   },
   "outputs": [],
   "source": [
    "from kiwipiepy import Kiwi"
   ]
  },
  {
   "cell_type": "code",
   "execution_count": 4,
   "id": "d343b517",
   "metadata": {
    "executionInfo": {
     "elapsed": 5218,
     "status": "ok",
     "timestamp": 1619198204246,
     "user": {
      "displayName": "­박준영[경영학부]",
      "photoUrl": "",
      "userId": "14019551026038677091"
     },
     "user_tz": -540
    },
    "id": "d343b517"
   },
   "outputs": [],
   "source": [
    "kiwi = Kiwi()\n",
    "#kiwi.prepare()\n",
    "def extract_nouns(text):\n",
    "    stopwords = ['나','년','것','듯','앞','실제','을', '를', '이', '가', '은', '는', '히','거','걸','경','글','기','끼','르','마','솔','슬','즈']\n",
    "    #stopwords = []\n",
    "    words = []\n",
    "    result = kiwi.analyze(text)\n",
    "    for token, pos, _,_ in result[0][0]:\n",
    "        if pos[0] in 'N':\n",
    "            if token not in stopwords:\n",
    "                #words.append(token)\n",
    "                #words = [t for t in token if t not in stopwords]\n",
    "                words.append(token)\n",
    "    return words"
   ]
  },
  {
   "cell_type": "code",
   "execution_count": 5,
   "id": "WRSDLdBXXXch",
   "metadata": {
    "executionInfo": {
     "elapsed": 27732,
     "status": "ok",
     "timestamp": 1619198226764,
     "user": {
      "displayName": "­박준영[경영학부]",
      "photoUrl": "",
      "userId": "14019551026038677091"
     },
     "user_tz": -540
    },
    "id": "WRSDLdBXXXch"
   },
   "outputs": [],
   "source": [
    "from sklearn.feature_extraction.text import CountVectorizer\n",
    "max_features = 1500\n",
    "cv_naver = CountVectorizer(max_features=max_features, tokenizer=extract_nouns)\n",
    "tdm_naver = cv_naver.fit_transform(naver.loc[0:, 'comment'])\n",
    "cv_daum = CountVectorizer(max_features=max_features, tokenizer=extract_nouns)\n",
    "tdm_daum = cv_daum.fit_transform(daum.loc[0:, 'comment'])"
   ]
  },
  {
   "cell_type": "code",
   "execution_count": 6,
   "id": "WgYUOv4ua2C8",
   "metadata": {
    "colab": {
     "base_uri": "https://localhost:8080/"
    },
    "executionInfo": {
     "elapsed": 27732,
     "status": "ok",
     "timestamp": 1619198226769,
     "user": {
      "displayName": "­박준영[경영학부]",
      "photoUrl": "",
      "userId": "14019551026038677091"
     },
     "user_tz": -540
    },
    "id": "WgYUOv4ua2C8",
    "outputId": "f7d571c2-0267-41fe-c202-97b9860806a2"
   },
   "outputs": [
    {
     "data": {
      "text/plain": [
       "((5587, 1500), (3043, 1500))"
      ]
     },
     "execution_count": 6,
     "metadata": {},
     "output_type": "execute_result"
    }
   ],
   "source": [
    "tdm_naver.shape , tdm_daum.shape"
   ]
  },
  {
   "cell_type": "markdown",
   "id": "ShhBUUl7pD_E",
   "metadata": {
    "id": "ShhBUUl7pD_E"
   },
   "source": [
    "#### 네이버 댓글 단어빈도"
   ]
  },
  {
   "cell_type": "code",
   "execution_count": 7,
   "id": "emI6CAGadQqL",
   "metadata": {
    "colab": {
     "base_uri": "https://localhost:8080/",
     "height": 0
    },
    "executionInfo": {
     "elapsed": 27728,
     "status": "ok",
     "timestamp": 1619198226770,
     "user": {
      "displayName": "­박준영[경영학부]",
      "photoUrl": "",
      "userId": "14019551026038677091"
     },
     "user_tz": -540
    },
    "id": "emI6CAGadQqL",
    "outputId": "fdbe1394-e63f-49fa-8d25-9afa5a292771"
   },
   "outputs": [
    {
     "name": "stderr",
     "output_type": "stream",
     "text": [
      "D:\\anaconda3\\lib\\site-packages\\sklearn\\utils\\deprecation.py:87: FutureWarning: Function get_feature_names is deprecated; get_feature_names is deprecated in 1.0 and will be removed in 1.2. Please use get_feature_names_out instead.\n",
      "  warnings.warn(msg, category=FutureWarning)\n"
     ]
    },
    {
     "data": {
      "text/html": [
       "<div>\n",
       "<style scoped>\n",
       "    .dataframe tbody tr th:only-of-type {\n",
       "        vertical-align: middle;\n",
       "    }\n",
       "\n",
       "    .dataframe tbody tr th {\n",
       "        vertical-align: top;\n",
       "    }\n",
       "\n",
       "    .dataframe thead th {\n",
       "        text-align: right;\n",
       "    }\n",
       "</style>\n",
       "<table border=\"1\" class=\"dataframe\">\n",
       "  <thead>\n",
       "    <tr style=\"text-align: right;\">\n",
       "      <th></th>\n",
       "      <th>단어</th>\n",
       "      <th>빈도</th>\n",
       "    </tr>\n",
       "  </thead>\n",
       "  <tbody>\n",
       "    <tr>\n",
       "      <th>1190</th>\n",
       "      <td>차</td>\n",
       "      <td>1917</td>\n",
       "    </tr>\n",
       "    <tr>\n",
       "      <th>342</th>\n",
       "      <td>디자인</td>\n",
       "      <td>1209</td>\n",
       "    </tr>\n",
       "    <tr>\n",
       "      <th>2</th>\n",
       "      <td>가격</td>\n",
       "      <td>554</td>\n",
       "    </tr>\n",
       "    <tr>\n",
       "      <th>904</th>\n",
       "      <td>옵션</td>\n",
       "      <td>369</td>\n",
       "    </tr>\n",
       "    <tr>\n",
       "      <th>596</th>\n",
       "      <td>사람</td>\n",
       "      <td>365</td>\n",
       "    </tr>\n",
       "    <tr>\n",
       "      <th>152</th>\n",
       "      <td>그랜저</td>\n",
       "      <td>359</td>\n",
       "    </tr>\n",
       "    <tr>\n",
       "      <th>1081</th>\n",
       "      <td>정도</td>\n",
       "      <td>324</td>\n",
       "    </tr>\n",
       "    <tr>\n",
       "      <th>1448</th>\n",
       "      <td>현대</td>\n",
       "      <td>320</td>\n",
       "    </tr>\n",
       "    <tr>\n",
       "      <th>643</th>\n",
       "      <td>생각</td>\n",
       "      <td>316</td>\n",
       "    </tr>\n",
       "    <tr>\n",
       "      <th>1099</th>\n",
       "      <td>제네시스</td>\n",
       "      <td>301</td>\n",
       "    </tr>\n",
       "  </tbody>\n",
       "</table>\n",
       "</div>"
      ],
      "text/plain": [
       "        단어    빈도\n",
       "1190     차  1917\n",
       "342    디자인  1209\n",
       "2       가격   554\n",
       "904     옵션   369\n",
       "596     사람   365\n",
       "152    그랜저   359\n",
       "1081    정도   324\n",
       "1448    현대   320\n",
       "643     생각   316\n",
       "1099  제네시스   301"
      ]
     },
     "execution_count": 7,
     "metadata": {},
     "output_type": "execute_result"
    }
   ],
   "source": [
    "word_count_naver = pd.DataFrame({\n",
    "    '단어': cv_naver.get_feature_names(),\n",
    "    '빈도': tdm_naver.sum(axis=0).flat\n",
    "}); word_count_naver.sort_values('빈도',ascending=False).head(10)"
   ]
  },
  {
   "cell_type": "markdown",
   "id": "s_YizvwQpHtD",
   "metadata": {
    "id": "s_YizvwQpHtD"
   },
   "source": [
    "#### 다음 댓글 단어빈도"
   ]
  },
  {
   "cell_type": "code",
   "execution_count": 8,
   "id": "i9wg5aUVd7cK",
   "metadata": {
    "colab": {
     "base_uri": "https://localhost:8080/",
     "height": 0
    },
    "executionInfo": {
     "elapsed": 27723,
     "status": "ok",
     "timestamp": 1619198226770,
     "user": {
      "displayName": "­박준영[경영학부]",
      "photoUrl": "",
      "userId": "14019551026038677091"
     },
     "user_tz": -540
    },
    "id": "i9wg5aUVd7cK",
    "outputId": "ffce088c-0838-4a62-9937-023ee95a9501"
   },
   "outputs": [
    {
     "name": "stderr",
     "output_type": "stream",
     "text": [
      "D:\\anaconda3\\lib\\site-packages\\sklearn\\utils\\deprecation.py:87: FutureWarning: Function get_feature_names is deprecated; get_feature_names is deprecated in 1.0 and will be removed in 1.2. Please use get_feature_names_out instead.\n",
      "  warnings.warn(msg, category=FutureWarning)\n"
     ]
    },
    {
     "data": {
      "text/html": [
       "<div>\n",
       "<style scoped>\n",
       "    .dataframe tbody tr th:only-of-type {\n",
       "        vertical-align: middle;\n",
       "    }\n",
       "\n",
       "    .dataframe tbody tr th {\n",
       "        vertical-align: top;\n",
       "    }\n",
       "\n",
       "    .dataframe thead th {\n",
       "        text-align: right;\n",
       "    }\n",
       "</style>\n",
       "<table border=\"1\" class=\"dataframe\">\n",
       "  <thead>\n",
       "    <tr style=\"text-align: right;\">\n",
       "      <th></th>\n",
       "      <th>단어</th>\n",
       "      <th>빈도</th>\n",
       "    </tr>\n",
       "  </thead>\n",
       "  <tbody>\n",
       "    <tr>\n",
       "      <th>1193</th>\n",
       "      <td>차</td>\n",
       "      <td>950</td>\n",
       "    </tr>\n",
       "    <tr>\n",
       "      <th>351</th>\n",
       "      <td>디자인</td>\n",
       "      <td>597</td>\n",
       "    </tr>\n",
       "    <tr>\n",
       "      <th>4</th>\n",
       "      <td>가격</td>\n",
       "      <td>301</td>\n",
       "    </tr>\n",
       "    <tr>\n",
       "      <th>14</th>\n",
       "      <td>가솔린</td>\n",
       "      <td>301</td>\n",
       "    </tr>\n",
       "    <tr>\n",
       "      <th>911</th>\n",
       "      <td>옵션</td>\n",
       "      <td>165</td>\n",
       "    </tr>\n",
       "    <tr>\n",
       "      <th>865</th>\n",
       "      <td>엔진</td>\n",
       "      <td>162</td>\n",
       "    </tr>\n",
       "    <tr>\n",
       "      <th>881</th>\n",
       "      <td>연비</td>\n",
       "      <td>148</td>\n",
       "    </tr>\n",
       "    <tr>\n",
       "      <th>591</th>\n",
       "      <td>사람</td>\n",
       "      <td>146</td>\n",
       "    </tr>\n",
       "    <tr>\n",
       "      <th>635</th>\n",
       "      <td>생각</td>\n",
       "      <td>141</td>\n",
       "    </tr>\n",
       "    <tr>\n",
       "      <th>154</th>\n",
       "      <td>그랜저</td>\n",
       "      <td>130</td>\n",
       "    </tr>\n",
       "  </tbody>\n",
       "</table>\n",
       "</div>"
      ],
      "text/plain": [
       "       단어   빈도\n",
       "1193    차  950\n",
       "351   디자인  597\n",
       "4      가격  301\n",
       "14    가솔린  301\n",
       "911    옵션  165\n",
       "865    엔진  162\n",
       "881    연비  148\n",
       "591    사람  146\n",
       "635    생각  141\n",
       "154   그랜저  130"
      ]
     },
     "execution_count": 8,
     "metadata": {},
     "output_type": "execute_result"
    }
   ],
   "source": [
    "word_count_daum = pd.DataFrame({\n",
    "    '단어': cv_daum.get_feature_names(),\n",
    "    '빈도': tdm_daum.sum(axis=0).flat\n",
    "}); word_count_daum.sort_values('빈도',ascending=False).head(10)"
   ]
  },
  {
   "cell_type": "markdown",
   "id": "8bb8d73d",
   "metadata": {
    "id": "8bb8d73d"
   },
   "source": [
    "## 4. 감성분석"
   ]
  },
  {
   "cell_type": "markdown",
   "id": "1042c2f0",
   "metadata": {
    "id": "1042c2f0"
   },
   "source": [
    "#### 학습에 사용하는 다음 댓글 데이터의 분포"
   ]
  },
  {
   "cell_type": "code",
   "execution_count": 35,
   "id": "4d83ad01",
   "metadata": {
    "colab": {
     "base_uri": "https://localhost:8080/"
    },
    "executionInfo": {
     "elapsed": 772,
     "status": "ok",
     "timestamp": 1619198254301,
     "user": {
      "displayName": "­박준영[경영학부]",
      "photoUrl": "",
      "userId": "14019551026038677091"
     },
     "user_tz": -540
    },
    "id": "4d83ad01",
    "outputId": "9fc0ee27-b10a-4acb-c0a6-374f12b29178"
   },
   "outputs": [
    {
     "name": "stdout",
     "output_type": "stream",
     "text": [
      "긍정댓글 수 : 1536\n",
      "부정댓글 수 : 1507\n"
     ]
    }
   ],
   "source": [
    "print(f'긍정댓글 수 : {daum.label.value_counts()[1]}\\n부정댓글 수 : {daum.label.value_counts()[0]}')"
   ]
  },
  {
   "cell_type": "markdown",
   "id": "mWdNguyHvMwm",
   "metadata": {
    "id": "mWdNguyHvMwm"
   },
   "source": [
    "#### 모델링"
   ]
  },
  {
   "cell_type": "code",
   "execution_count": 9,
   "id": "a549192b",
   "metadata": {
    "executionInfo": {
     "elapsed": 777,
     "status": "ok",
     "timestamp": 1619198300424,
     "user": {
      "displayName": "­박준영[경영학부]",
      "photoUrl": "",
      "userId": "14019551026038677091"
     },
     "user_tz": -540
    },
    "id": "a549192b"
   },
   "outputs": [],
   "source": [
    "max_features = max_features #단어문서행렬때 사용\n",
    "batch_size = 128\n",
    "epochs = 100\n",
    "patience = 10"
   ]
  },
  {
   "cell_type": "code",
   "execution_count": 10,
   "id": "fad55712",
   "metadata": {
    "colab": {
     "base_uri": "https://localhost:8080/"
    },
    "executionInfo": {
     "elapsed": 2597,
     "status": "ok",
     "timestamp": 1619198307167,
     "user": {
      "displayName": "­박준영[경영학부]",
      "photoUrl": "",
      "userId": "14019551026038677091"
     },
     "user_tz": -540
    },
    "id": "fad55712",
    "outputId": "b248d5d4-d186-4d30-9f7c-2be1e9f58c84"
   },
   "outputs": [
    {
     "name": "stdout",
     "output_type": "stream",
     "text": [
      "RANDOM SEEDS RESET\n"
     ]
    }
   ],
   "source": [
    "# 매번 모델링을 할 때마다 동일한 결과를 얻으려면 아래 코드를 실행해야 함.\n",
    "# 지난학기 머신러닝 코드\n",
    "import os\n",
    "import numpy as np\n",
    "import random\n",
    "import tensorflow as tf\n",
    "\n",
    "def reset_seeds(reset_graph_with_backend=None):\n",
    "    if reset_graph_with_backend is not None:\n",
    "        K = reset_graph_with_backend\n",
    "        K.clear_session()\n",
    "        tf.compat.v1.reset_default_graph()\n",
    "        print(\"KERAS AND TENSORFLOW GRAPHS RESET\")  # optional\n",
    "\n",
    "    np.random.seed(1)\n",
    "    random.seed(2)\n",
    "    tf.compat.v1.set_random_seed(3)\n",
    "    os.environ['CUDA_VISIBLE_DEVICES'] = ''  # for GPU\n",
    "    print(\"RANDOM SEEDS RESET\")  # optional\n",
    "   \n",
    "reset_seeds()"
   ]
  },
  {
   "cell_type": "code",
   "execution_count": 11,
   "id": "YoEEtueIsiSm",
   "metadata": {
    "executionInfo": {
     "elapsed": 3308,
     "status": "ok",
     "timestamp": 1619198308136,
     "user": {
      "displayName": "­박준영[경영학부]",
      "photoUrl": "",
      "userId": "14019551026038677091"
     },
     "user_tz": -540
    },
    "id": "YoEEtueIsiSm"
   },
   "outputs": [],
   "source": [
    "from sklearn.feature_extraction.text import CountVectorizer\n",
    "kiwi = Kiwi()\n",
    "#kiwi.prepare()\n",
    "def extract_keywords(text):\n",
    "    stopwords = ['나','년','것','듯','앞','실제','을', '를', '이', '가', '은', '는', '히','거','걸','경','글','기','끼','르','마','솔','슬','즈']\n",
    "    #stopwords = []\n",
    "    words = []\n",
    "    result = kiwi.analyze(text)\n",
    "    for token, pos, _,_ in result[0][0]:\n",
    "        if pos[0] in 'NVI':\n",
    "            if token not in stopwords:\n",
    "                #words.append(token)\n",
    "                #words = [t for t in token if t not in stopwords]\n",
    "                words.append(token)\n",
    "    return words"
   ]
  },
  {
   "cell_type": "code",
   "execution_count": 12,
   "id": "8W_hsq9daMEr",
   "metadata": {
    "executionInfo": {
     "elapsed": 7477,
     "status": "ok",
     "timestamp": 1619198320558,
     "user": {
      "displayName": "­박준영[경영학부]",
      "photoUrl": "",
      "userId": "14019551026038677091"
     },
     "user_tz": -540
    },
    "id": "8W_hsq9daMEr"
   },
   "outputs": [],
   "source": [
    "cv = CountVectorizer(max_features=max_features, tokenizer=extract_keywords)\n",
    "dtm = cv.fit_transform(daum.loc[0:, 'comment'])\n",
    "\n",
    "x=dtm\n",
    "y=daum.score.values[:]"
   ]
  },
  {
   "cell_type": "code",
   "execution_count": 13,
   "id": "110a3d53",
   "metadata": {
    "executionInfo": {
     "elapsed": 7232,
     "status": "ok",
     "timestamp": 1619198320561,
     "user": {
      "displayName": "­박준영[경영학부]",
      "photoUrl": "",
      "userId": "14019551026038677091"
     },
     "user_tz": -540
    },
    "id": "110a3d53"
   },
   "outputs": [],
   "source": [
    "from sklearn.model_selection import train_test_split\n",
    "\n",
    "x_train, x_test, y_train, y_test = train_test_split(x, y, test_size=0.2, random_state=0)"
   ]
  },
  {
   "cell_type": "code",
   "execution_count": 14,
   "id": "66bc1c0b",
   "metadata": {
    "executionInfo": {
     "elapsed": 6756,
     "status": "ok",
     "timestamp": 1619198320561,
     "user": {
      "displayName": "­박준영[경영학부]",
      "photoUrl": "",
      "userId": "14019551026038677091"
     },
     "user_tz": -540
    },
    "id": "66bc1c0b"
   },
   "outputs": [],
   "source": [
    "import tensorflow as tf"
   ]
  },
  {
   "cell_type": "code",
   "execution_count": 15,
   "id": "b857aecb",
   "metadata": {
    "executionInfo": {
     "elapsed": 5872,
     "status": "ok",
     "timestamp": 1619198320562,
     "user": {
      "displayName": "­박준영[경영학부]",
      "photoUrl": "",
      "userId": "14019551026038677091"
     },
     "user_tz": -540
    },
    "id": "b857aecb"
   },
   "outputs": [],
   "source": [
    "model = tf.keras.models.Sequential()\n",
    "model.add(\n",
    "    tf.keras.layers.Dense(\n",
    "        1, \n",
    "        input_shape=(max_features,), \n",
    "        activation='softmax',\n",
    "        #kernel_regularizer=tf.keras.regularizers.l2(0.001))\n",
    "        ))\n"
   ]
  },
  {
   "cell_type": "code",
   "execution_count": 16,
   "id": "6b2f3b17",
   "metadata": {
    "colab": {
     "base_uri": "https://localhost:8080/"
    },
    "executionInfo": {
     "elapsed": 5512,
     "status": "ok",
     "timestamp": 1619198320562,
     "user": {
      "displayName": "­박준영[경영학부]",
      "photoUrl": "",
      "userId": "14019551026038677091"
     },
     "user_tz": -540
    },
    "id": "6b2f3b17",
    "outputId": "8a182480-0dcc-470e-eea6-e0438c07e6e1"
   },
   "outputs": [
    {
     "name": "stdout",
     "output_type": "stream",
     "text": [
      "Model: \"sequential\"\n",
      "_________________________________________________________________\n",
      " Layer (type)                Output Shape              Param #   \n",
      "=================================================================\n",
      " dense (Dense)               (None, 1)                 1501      \n",
      "                                                                 \n",
      "=================================================================\n",
      "Total params: 1,501\n",
      "Trainable params: 1,501\n",
      "Non-trainable params: 0\n",
      "_________________________________________________________________\n"
     ]
    }
   ],
   "source": [
    "model.summary()"
   ]
  },
  {
   "cell_type": "code",
   "execution_count": 17,
   "id": "d1989276",
   "metadata": {
    "executionInfo": {
     "elapsed": 3312,
     "status": "ok",
     "timestamp": 1619198320562,
     "user": {
      "displayName": "­박준영[경영학부]",
      "photoUrl": "",
      "userId": "14019551026038677091"
     },
     "user_tz": -540
    },
    "id": "d1989276"
   },
   "outputs": [],
   "source": [
    "model.compile(optimizer='adam', loss='binary_crossentropy', metrics=['accuracy'])"
   ]
  },
  {
   "cell_type": "code",
   "execution_count": 18,
   "id": "7a8900cd",
   "metadata": {
    "collapsed": true,
    "id": "7a8900cd"
   },
   "outputs": [
    {
     "name": "stdout",
     "output_type": "stream",
     "text": [
      "Epoch 1/100\n",
      "61/61 [==============================] - 1s 5ms/step - loss: 0.0985 - accuracy: 0.3369 - val_loss: -0.4055 - val_accuracy: 0.3162\n",
      "Epoch 2/100\n",
      "61/61 [==============================] - 0s 2ms/step - loss: -0.7777 - accuracy: 0.3369 - val_loss: -1.2636 - val_accuracy: 0.3162\n",
      "Epoch 3/100\n",
      "61/61 [==============================] - 0s 3ms/step - loss: -1.6043 - accuracy: 0.3369 - val_loss: -2.1022 - val_accuracy: 0.3162\n",
      "Epoch 4/100\n",
      "61/61 [==============================] - 0s 3ms/step - loss: -2.4047 - accuracy: 0.3369 - val_loss: -2.9197 - val_accuracy: 0.3162\n",
      "Epoch 5/100\n",
      "61/61 [==============================] - 0s 3ms/step - loss: -3.1931 - accuracy: 0.3369 - val_loss: -3.7047 - val_accuracy: 0.3162\n",
      "Epoch 6/100\n",
      "61/61 [==============================] - 0s 3ms/step - loss: -3.9620 - accuracy: 0.3369 - val_loss: -4.5065 - val_accuracy: 0.3162\n",
      "Epoch 7/100\n",
      "61/61 [==============================] - 0s 3ms/step - loss: -4.7301 - accuracy: 0.3369 - val_loss: -5.2754 - val_accuracy: 0.3162\n",
      "Epoch 8/100\n",
      "61/61 [==============================] - 0s 2ms/step - loss: -5.4881 - accuracy: 0.3369 - val_loss: -6.0525 - val_accuracy: 0.3162\n",
      "Epoch 9/100\n",
      "61/61 [==============================] - 0s 3ms/step - loss: -6.2420 - accuracy: 0.3369 - val_loss: -6.8307 - val_accuracy: 0.3162\n",
      "Epoch 10/100\n",
      "61/61 [==============================] - 0s 2ms/step - loss: -6.9949 - accuracy: 0.3369 - val_loss: -7.5933 - val_accuracy: 0.3162\n",
      "Epoch 11/100\n",
      "61/61 [==============================] - 0s 2ms/step - loss: -7.7437 - accuracy: 0.3369 - val_loss: -8.3612 - val_accuracy: 0.3162\n"
     ]
    }
   ],
   "source": [
    "hist = model.fit(x_train.A, y_train, epochs=epochs, validation_split=0.2,\n",
    "          callbacks=[tf.keras.callbacks.EarlyStopping(monitor='val_accuracy', patience=patience)]\n",
    "                )"
   ]
  },
  {
   "cell_type": "code",
   "execution_count": 18,
   "id": "b9f203c8",
   "metadata": {
    "colab": {
     "base_uri": "https://localhost:8080/",
     "height": 295
    },
    "executionInfo": {
     "elapsed": 1017,
     "status": "ok",
     "timestamp": 1619198333304,
     "user": {
      "displayName": "­박준영[경영학부]",
      "photoUrl": "",
      "userId": "14019551026038677091"
     },
     "user_tz": -540
    },
    "id": "b9f203c8",
    "outputId": "b8bd99ce-4201-4b53-cefc-8f4920e73ecd",
    "scrolled": true
   },
   "outputs": [
    {
     "data": {
      "image/png": "[encoded data removed]",
      "text/plain": [
       "<Figure size 432x288 with 1 Axes>"
      ]
     },
     "metadata": {
      "needs_background": "light"
     },
     "output_type": "display_data"
    }
   ],
   "source": [
    "import matplotlib.pylab as plt\n",
    "from matplotlib import font_manager, rc\n",
    "%matplotlib inline\n",
    "# Loss\n",
    "plt.plot(hist.history['accuracy'], label=\"train\")\n",
    "plt.plot(hist.history[\"val_accuracy\"], label=\"validation\")\n",
    "plt.legend()\n",
    "plt.xlabel('epoch')\n",
    "plt.title(\"Accuracy\")\n",
    "plt.show()"
   ]
  },
  {
   "cell_type": "code",
   "execution_count": 47,
   "id": "a2e80c3b",
   "metadata": {
    "colab": {
     "base_uri": "https://localhost:8080/"
    },
    "executionInfo": {
     "elapsed": 966,
     "status": "ok",
     "timestamp": 1619198336683,
     "user": {
      "displayName": "­박준영[경영학부]",
      "photoUrl": "",
      "userId": "14019551026038677091"
     },
     "user_tz": -540
    },
    "id": "a2e80c3b",
    "outputId": "2a830ece-0c37-4ee0-c053-9a77a79918fd"
   },
   "outputs": [
    {
     "data": {
      "text/plain": [
       "[-28.27454376220703, 0.27914613485336304]"
      ]
     },
     "execution_count": 47,
     "metadata": {},
     "output_type": "execute_result"
    }
   ],
   "source": [
    "model.evaluate(x_test.A, y_test, verbose=0)"
   ]
  },
  {
   "cell_type": "code",
   "execution_count": 50,
   "id": "09366973",
   "metadata": {},
   "outputs": [
    {
     "name": "stdout",
     "output_type": "stream",
     "text": [
      "20/20 [==============================] - 0s 948us/step\n"
     ]
    },
    {
     "data": {
      "text/plain": [
       "array([[ 1.3316696 ],\n",
       "       [ 8.052009  ],\n",
       "       [ 1.1612129 ],\n",
       "       [ 5.5336885 ],\n",
       "       [ 4.2770863 ],\n",
       "       [ 7.4174595 ],\n",
       "       [ 6.9996376 ],\n",
       "       [ 3.1264834 ],\n",
       "       [ 2.7778904 ],\n",
       "       [ 3.3699763 ],\n",
       "       [ 2.1601272 ],\n",
       "       [ 0.42257398],\n",
       "       [ 3.3119113 ],\n",
       "       [ 1.9912822 ],\n",
       "       [ 0.9860979 ],\n",
       "       [ 0.88137907],\n",
       "       [ 0.3248542 ],\n",
       "       [13.322405  ],\n",
       "       [ 2.0350978 ],\n",
       "       [ 0.9860979 ],\n",
       "       [ 2.3465176 ],\n",
       "       [ 0.55510885],\n",
       "       [ 1.9700963 ],\n",
       "       [ 0.66730994],\n",
       "       [ 1.700707  ],\n",
       "       [ 7.911809  ],\n",
       "       [ 3.299201  ],\n",
       "       [ 3.2622805 ],\n",
       "       [ 6.2259045 ],\n",
       "       [ 4.242889  ],\n",
       "       [ 1.0641465 ],\n",
       "       [ 0.94825435],\n",
       "       [ 7.2754416 ],\n",
       "       [ 1.9473205 ],\n",
       "       [ 0.66098833],\n",
       "       [ 1.5337443 ],\n",
       "       [ 0.84835535],\n",
       "       [ 1.3835316 ],\n",
       "       [ 1.2771139 ],\n",
       "       [ 1.6186984 ],\n",
       "       [ 1.061579  ],\n",
       "       [ 2.3695042 ],\n",
       "       [ 1.8558669 ],\n",
       "       [ 1.7282457 ],\n",
       "       [ 1.4501858 ],\n",
       "       [ 2.7784052 ],\n",
       "       [ 2.7697787 ],\n",
       "       [ 1.061579  ],\n",
       "       [ 3.8689847 ],\n",
       "       [ 1.0357171 ],\n",
       "       [ 0.39168155],\n",
       "       [ 0.90876704],\n",
       "       [ 1.3038765 ],\n",
       "       [ 2.7514958 ],\n",
       "       [ 4.249419  ],\n",
       "       [ 1.4966693 ],\n",
       "       [ 2.5589335 ],\n",
       "       [ 3.2582908 ],\n",
       "       [ 4.567744  ],\n",
       "       [ 3.8506792 ],\n",
       "       [ 1.061579  ],\n",
       "       [ 2.2091007 ],\n",
       "       [ 2.3824384 ],\n",
       "       [ 1.8816023 ],\n",
       "       [ 1.3142776 ],\n",
       "       [ 6.881573  ],\n",
       "       [ 1.0219982 ],\n",
       "       [ 1.7106583 ],\n",
       "       [ 6.46918   ],\n",
       "       [ 1.4765413 ],\n",
       "       [11.444447  ],\n",
       "       [ 1.7352912 ],\n",
       "       [ 2.1977632 ],\n",
       "       [ 2.9315596 ],\n",
       "       [ 1.1516478 ],\n",
       "       [ 2.0146298 ],\n",
       "       [ 2.7158136 ],\n",
       "       [ 1.3142776 ],\n",
       "       [13.690886  ],\n",
       "       [ 1.9106443 ],\n",
       "       [ 1.9418173 ],\n",
       "       [ 1.1646872 ],\n",
       "       [ 4.517017  ],\n",
       "       [ 1.3894837 ],\n",
       "       [ 0.5837655 ],\n",
       "       [ 0.3248542 ],\n",
       "       [ 1.7834148 ],\n",
       "       [ 5.6722536 ],\n",
       "       [ 1.6708755 ],\n",
       "       [ 3.3772573 ],\n",
       "       [ 2.6408207 ],\n",
       "       [ 2.0148945 ],\n",
       "       [ 1.3806105 ],\n",
       "       [ 6.307881  ],\n",
       "       [ 1.717916  ],\n",
       "       [ 2.5067613 ],\n",
       "       [ 1.1978812 ],\n",
       "       [ 4.694698  ],\n",
       "       [ 3.5302565 ],\n",
       "       [10.430837  ],\n",
       "       [ 3.163251  ],\n",
       "       [ 1.8446002 ],\n",
       "       [ 3.6699574 ],\n",
       "       [ 2.3722448 ],\n",
       "       [ 0.4919309 ],\n",
       "       [ 3.8309753 ],\n",
       "       [ 3.2137678 ],\n",
       "       [ 1.0452931 ],\n",
       "       [ 3.805776  ],\n",
       "       [ 2.3641214 ],\n",
       "       [ 1.0520782 ],\n",
       "       [ 2.097048  ],\n",
       "       [ 1.5024493 ],\n",
       "       [ 2.6711323 ],\n",
       "       [ 4.5007195 ],\n",
       "       [ 6.5115075 ],\n",
       "       [ 0.73837864],\n",
       "       [ 3.058643  ],\n",
       "       [ 3.0746567 ],\n",
       "       [ 6.5866084 ],\n",
       "       [ 1.5436668 ],\n",
       "       [ 5.5240817 ],\n",
       "       [ 2.4394667 ],\n",
       "       [ 2.412185  ],\n",
       "       [ 2.7638333 ],\n",
       "       [ 6.8277974 ],\n",
       "       [ 5.7134233 ],\n",
       "       [ 1.2771139 ],\n",
       "       [ 3.2333283 ],\n",
       "       [ 3.4582024 ],\n",
       "       [ 2.6645987 ],\n",
       "       [ 0.7037133 ],\n",
       "       [ 2.5517106 ],\n",
       "       [ 6.290277  ],\n",
       "       [ 3.4092925 ],\n",
       "       [ 1.089493  ],\n",
       "       [ 1.2459358 ],\n",
       "       [ 3.0794795 ],\n",
       "       [ 8.37021   ],\n",
       "       [ 1.9282465 ],\n",
       "       [ 1.336864  ],\n",
       "       [ 4.4756165 ],\n",
       "       [ 0.9860979 ],\n",
       "       [ 1.2931907 ],\n",
       "       [ 3.1852877 ],\n",
       "       [ 1.2719934 ],\n",
       "       [ 0.6525245 ],\n",
       "       [ 1.061579  ],\n",
       "       [ 3.9834938 ],\n",
       "       [ 1.5178063 ],\n",
       "       [ 2.248216  ],\n",
       "       [ 3.0831215 ],\n",
       "       [ 1.0581882 ],\n",
       "       [ 0.6353923 ],\n",
       "       [ 0.591492  ],\n",
       "       [ 7.526033  ],\n",
       "       [ 4.4864845 ],\n",
       "       [ 2.818513  ],\n",
       "       [ 2.8363345 ],\n",
       "       [ 2.915121  ],\n",
       "       [ 1.0225925 ],\n",
       "       [ 0.8813048 ],\n",
       "       [ 1.7933009 ],\n",
       "       [ 1.1291656 ],\n",
       "       [ 3.0441248 ],\n",
       "       [ 1.2996073 ],\n",
       "       [ 3.6874173 ],\n",
       "       [ 5.50866   ],\n",
       "       [ 0.7037133 ],\n",
       "       [ 0.47767365],\n",
       "       [ 1.0581882 ],\n",
       "       [ 2.6781538 ],\n",
       "       [ 0.87551373],\n",
       "       [ 3.968496  ],\n",
       "       [ 3.216242  ],\n",
       "       [ 0.3248542 ],\n",
       "       [ 1.446018  ],\n",
       "       [ 0.88137907],\n",
       "       [ 2.491758  ],\n",
       "       [ 0.9927902 ],\n",
       "       [ 1.4577093 ],\n",
       "       [ 1.7895558 ],\n",
       "       [ 3.2215216 ],\n",
       "       [ 1.7661135 ],\n",
       "       [ 0.45332596],\n",
       "       [ 2.5637777 ],\n",
       "       [ 1.4507656 ],\n",
       "       [ 0.3248542 ],\n",
       "       [ 5.1195025 ],\n",
       "       [ 1.6944218 ],\n",
       "       [ 0.9860979 ],\n",
       "       [ 0.51825875],\n",
       "       [ 1.3027487 ],\n",
       "       [ 3.4334042 ],\n",
       "       [10.9667225 ],\n",
       "       [ 2.4681773 ],\n",
       "       [ 0.3248542 ],\n",
       "       [ 0.8929464 ],\n",
       "       [ 1.1134634 ],\n",
       "       [ 1.9825714 ],\n",
       "       [ 2.8899393 ],\n",
       "       [ 1.1988144 ],\n",
       "       [ 2.0804589 ],\n",
       "       [ 5.019519  ],\n",
       "       [ 1.6335316 ],\n",
       "       [ 5.7673087 ],\n",
       "       [ 1.7349336 ],\n",
       "       [ 0.8967837 ],\n",
       "       [ 0.6592655 ],\n",
       "       [ 7.8212442 ],\n",
       "       [ 1.6525347 ],\n",
       "       [ 2.2476695 ],\n",
       "       [11.452394  ],\n",
       "       [ 2.9319782 ],\n",
       "       [ 5.843506  ],\n",
       "       [ 2.229363  ],\n",
       "       [ 0.3248542 ],\n",
       "       [ 0.88137907],\n",
       "       [ 2.8684971 ],\n",
       "       [ 3.8345158 ],\n",
       "       [ 5.53483   ],\n",
       "       [ 8.334555  ],\n",
       "       [ 4.2494884 ],\n",
       "       [ 1.8012092 ],\n",
       "       [ 1.2242506 ],\n",
       "       [ 3.334952  ],\n",
       "       [ 0.86099696],\n",
       "       [ 5.920307  ],\n",
       "       [ 2.0480096 ],\n",
       "       [13.464534  ],\n",
       "       [ 0.8569913 ],\n",
       "       [ 7.7481046 ],\n",
       "       [ 2.3431695 ],\n",
       "       [ 1.4525826 ],\n",
       "       [ 2.1713784 ],\n",
       "       [ 7.497931  ],\n",
       "       [ 0.9337302 ],\n",
       "       [ 8.05456   ],\n",
       "       [ 1.5844238 ],\n",
       "       [ 1.6132288 ],\n",
       "       [ 2.7674315 ],\n",
       "       [ 3.3141992 ],\n",
       "       [ 1.2771139 ],\n",
       "       [ 1.301007  ],\n",
       "       [ 3.593356  ],\n",
       "       [ 1.2215619 ],\n",
       "       [ 6.9458656 ],\n",
       "       [ 3.5054579 ],\n",
       "       [ 3.4245245 ],\n",
       "       [ 2.0433369 ],\n",
       "       [ 0.8221407 ],\n",
       "       [ 3.8456059 ],\n",
       "       [ 3.9007947 ],\n",
       "       [ 3.109843  ],\n",
       "       [ 0.88137907],\n",
       "       [ 2.3139346 ],\n",
       "       [ 2.16476   ],\n",
       "       [ 0.6353923 ],\n",
       "       [ 6.4670033 ],\n",
       "       [ 5.2887645 ],\n",
       "       [ 0.52401865],\n",
       "       [ 2.4509976 ],\n",
       "       [ 2.6478672 ],\n",
       "       [ 0.54717505],\n",
       "       [ 0.8791603 ],\n",
       "       [ 0.3248542 ],\n",
       "       [ 1.1630032 ],\n",
       "       [13.008196  ],\n",
       "       [ 1.5267811 ],\n",
       "       [ 3.5917234 ],\n",
       "       [ 1.6709375 ],\n",
       "       [ 1.8649619 ],\n",
       "       [ 2.7958512 ],\n",
       "       [ 1.1369584 ],\n",
       "       [ 3.4908025 ],\n",
       "       [ 1.1801243 ],\n",
       "       [ 1.2266889 ],\n",
       "       [ 1.2523549 ],\n",
       "       [ 2.111876  ],\n",
       "       [ 0.7080109 ],\n",
       "       [ 2.752122  ],\n",
       "       [ 0.3248542 ],\n",
       "       [ 0.415694  ],\n",
       "       [ 1.1025875 ],\n",
       "       [ 2.748789  ],\n",
       "       [ 0.73567253],\n",
       "       [ 2.5118654 ],\n",
       "       [ 2.2038925 ],\n",
       "       [ 1.2266889 ],\n",
       "       [ 3.3299196 ],\n",
       "       [ 1.7992933 ],\n",
       "       [ 1.0852113 ],\n",
       "       [ 2.4418905 ],\n",
       "       [ 1.2847515 ],\n",
       "       [ 2.5406005 ],\n",
       "       [ 1.7019753 ],\n",
       "       [ 0.7106957 ],\n",
       "       [ 1.8674593 ],\n",
       "       [ 2.06154   ],\n",
       "       [ 1.0330763 ],\n",
       "       [14.40946   ],\n",
       "       [ 0.65021205],\n",
       "       [ 0.38365275],\n",
       "       [ 6.117959  ],\n",
       "       [ 5.0671964 ],\n",
       "       [ 1.3057952 ],\n",
       "       [11.907048  ],\n",
       "       [ 0.90582484],\n",
       "       [ 0.70427334],\n",
       "       [ 4.1475883 ],\n",
       "       [ 0.47315037],\n",
       "       [ 1.5141988 ],\n",
       "       [ 1.482671  ],\n",
       "       [ 1.2082253 ],\n",
       "       [15.55028   ],\n",
       "       [ 1.8475347 ],\n",
       "       [ 0.9353706 ],\n",
       "       [ 1.8144016 ],\n",
       "       [ 1.7397242 ],\n",
       "       [ 9.06253   ],\n",
       "       [ 1.0108247 ],\n",
       "       [ 1.3681262 ],\n",
       "       [ 1.0297059 ],\n",
       "       [ 2.1334438 ],\n",
       "       [ 2.9788585 ],\n",
       "       [10.811319  ],\n",
       "       [ 5.906833  ],\n",
       "       [ 1.4923644 ],\n",
       "       [ 3.9505603 ],\n",
       "       [ 1.1671307 ],\n",
       "       [ 1.8711395 ],\n",
       "       [ 2.4854453 ],\n",
       "       [ 2.9955413 ],\n",
       "       [ 1.860858  ],\n",
       "       [ 4.883335  ],\n",
       "       [ 0.3248542 ],\n",
       "       [ 1.4282765 ],\n",
       "       [ 0.42807937],\n",
       "       [ 0.96346205],\n",
       "       [10.1984215 ],\n",
       "       [ 1.095573  ],\n",
       "       [ 5.5561767 ],\n",
       "       [ 2.2895079 ],\n",
       "       [ 6.079437  ],\n",
       "       [ 1.1388239 ],\n",
       "       [ 0.79599136],\n",
       "       [ 0.94894964],\n",
       "       [ 1.0832822 ],\n",
       "       [ 2.2609117 ],\n",
       "       [ 1.6617663 ],\n",
       "       [ 2.1980896 ],\n",
       "       [ 4.4403644 ],\n",
       "       [ 4.091612  ],\n",
       "       [ 1.4644783 ],\n",
       "       [ 7.50104   ],\n",
       "       [ 2.5658374 ],\n",
       "       [ 1.5029473 ],\n",
       "       [ 1.1636105 ],\n",
       "       [ 2.0378218 ],\n",
       "       [ 1.1394136 ],\n",
       "       [ 1.9153676 ],\n",
       "       [ 1.8063753 ],\n",
       "       [ 1.7075636 ],\n",
       "       [ 0.6271844 ],\n",
       "       [ 0.9860979 ],\n",
       "       [ 8.935394  ],\n",
       "       [ 2.6431668 ],\n",
       "       [ 8.939741  ],\n",
       "       [11.884251  ],\n",
       "       [ 1.6321533 ],\n",
       "       [ 4.9655004 ],\n",
       "       [ 6.111837  ],\n",
       "       [ 0.55623436],\n",
       "       [ 1.6569555 ],\n",
       "       [ 4.485371  ],\n",
       "       [ 1.0641465 ],\n",
       "       [ 7.558718  ],\n",
       "       [ 1.4220579 ],\n",
       "       [ 1.7083552 ],\n",
       "       [10.12092   ],\n",
       "       [ 1.0679655 ],\n",
       "       [ 1.6282117 ],\n",
       "       [ 2.9151974 ],\n",
       "       [ 2.4031365 ],\n",
       "       [ 1.5597637 ],\n",
       "       [ 2.2733657 ],\n",
       "       [ 1.1454656 ],\n",
       "       [ 1.3403399 ],\n",
       "       [ 3.8054762 ],\n",
       "       [ 1.5717053 ],\n",
       "       [ 0.3248542 ],\n",
       "       [ 1.3485758 ],\n",
       "       [ 3.9821718 ],\n",
       "       [ 0.3248542 ],\n",
       "       [ 0.94174236],\n",
       "       [ 0.7666787 ],\n",
       "       [ 1.8315282 ],\n",
       "       [ 0.3305133 ],\n",
       "       [ 0.3248542 ],\n",
       "       [ 1.482671  ],\n",
       "       [ 3.0012758 ],\n",
       "       [ 3.0821507 ],\n",
       "       [ 1.0358047 ],\n",
       "       [ 3.7891605 ],\n",
       "       [ 0.79138327],\n",
       "       [ 5.0865703 ],\n",
       "       [ 5.7696514 ],\n",
       "       [ 4.373956  ],\n",
       "       [ 0.3248542 ],\n",
       "       [ 1.5854652 ],\n",
       "       [ 9.200333  ],\n",
       "       [ 1.4606342 ],\n",
       "       [ 0.6082467 ],\n",
       "       [ 1.3612947 ],\n",
       "       [ 2.381246  ],\n",
       "       [ 2.8416398 ],\n",
       "       [ 4.7207894 ],\n",
       "       [ 2.0285301 ],\n",
       "       [ 2.1224632 ],\n",
       "       [ 0.3248542 ],\n",
       "       [16.68428   ],\n",
       "       [ 0.6095108 ],\n",
       "       [ 2.7471864 ],\n",
       "       [ 9.808614  ],\n",
       "       [ 4.73146   ],\n",
       "       [ 0.983936  ],\n",
       "       [ 3.477474  ],\n",
       "       [ 1.9600832 ],\n",
       "       [ 0.88977   ],\n",
       "       [ 3.6510684 ],\n",
       "       [ 4.832338  ],\n",
       "       [ 1.3106165 ],\n",
       "       [ 8.113661  ],\n",
       "       [ 3.8394706 ],\n",
       "       [ 1.0702696 ],\n",
       "       [ 5.586073  ],\n",
       "       [ 2.4972196 ],\n",
       "       [ 0.43391326],\n",
       "       [ 0.7037133 ],\n",
       "       [ 1.4674451 ],\n",
       "       [ 1.3103173 ],\n",
       "       [ 3.4077678 ],\n",
       "       [ 2.2311206 ],\n",
       "       [15.886593  ],\n",
       "       [ 0.3248542 ],\n",
       "       [ 0.89852   ],\n",
       "       [ 2.5156987 ],\n",
       "       [ 2.863834  ],\n",
       "       [ 1.3907082 ],\n",
       "       [ 2.8375087 ],\n",
       "       [ 1.4084973 ],\n",
       "       [ 1.3370337 ],\n",
       "       [ 9.022089  ],\n",
       "       [ 6.161408  ],\n",
       "       [ 1.7687671 ],\n",
       "       [ 4.26455   ],\n",
       "       [ 1.5694263 ],\n",
       "       [ 2.5989058 ],\n",
       "       [ 2.0783668 ],\n",
       "       [ 1.360332  ],\n",
       "       [ 2.6093745 ],\n",
       "       [ 6.853075  ],\n",
       "       [ 2.672241  ],\n",
       "       [ 0.75228953],\n",
       "       [ 0.98040855],\n",
       "       [ 2.2788417 ],\n",
       "       [ 0.3551332 ],\n",
       "       [ 0.7045045 ],\n",
       "       [ 5.3467097 ],\n",
       "       [ 0.3248542 ],\n",
       "       [ 1.064379  ],\n",
       "       [ 0.3248542 ],\n",
       "       [ 0.78966224],\n",
       "       [ 3.5807884 ],\n",
       "       [ 1.1062745 ],\n",
       "       [ 2.8831184 ],\n",
       "       [ 3.9606087 ],\n",
       "       [ 1.1272317 ],\n",
       "       [ 2.129402  ],\n",
       "       [ 1.5652158 ],\n",
       "       [ 1.6940444 ],\n",
       "       [ 2.549072  ],\n",
       "       [ 2.524521  ],\n",
       "       [15.503069  ],\n",
       "       [ 0.65472347],\n",
       "       [ 0.6082467 ],\n",
       "       [ 1.3466105 ],\n",
       "       [ 0.6469475 ],\n",
       "       [ 3.9590952 ],\n",
       "       [ 6.5041003 ],\n",
       "       [ 1.3112648 ],\n",
       "       [ 0.3248542 ],\n",
       "       [ 4.2346616 ],\n",
       "       [ 2.2811143 ],\n",
       "       [ 1.0630383 ],\n",
       "       [ 1.2891957 ],\n",
       "       [ 5.6896467 ],\n",
       "       [ 0.8221165 ],\n",
       "       [ 3.159603  ],\n",
       "       [ 6.640775  ],\n",
       "       [ 1.5997312 ],\n",
       "       [ 0.67700016],\n",
       "       [ 1.0362108 ],\n",
       "       [ 1.6390424 ],\n",
       "       [ 6.035588  ],\n",
       "       [ 0.6847287 ],\n",
       "       [ 1.4670722 ],\n",
       "       [14.865446  ],\n",
       "       [ 2.1563601 ],\n",
       "       [ 2.5825531 ],\n",
       "       [ 1.0970716 ],\n",
       "       [ 6.888472  ],\n",
       "       [ 3.4664729 ],\n",
       "       [ 0.9860979 ],\n",
       "       [ 2.3345282 ],\n",
       "       [ 0.6284235 ],\n",
       "       [ 1.2386231 ],\n",
       "       [ 2.123362  ],\n",
       "       [ 4.063676  ],\n",
       "       [ 3.5940533 ],\n",
       "       [ 0.88137907],\n",
       "       [ 0.76466197],\n",
       "       [ 1.3246706 ],\n",
       "       [ 0.9101993 ],\n",
       "       [ 5.6628947 ],\n",
       "       [ 3.6135046 ],\n",
       "       [ 0.9295968 ],\n",
       "       [ 0.97189236],\n",
       "       [ 3.3706145 ],\n",
       "       [ 1.4855988 ],\n",
       "       [ 1.4404376 ],\n",
       "       [18.731417  ],\n",
       "       [ 4.5407443 ],\n",
       "       [ 7.899782  ],\n",
       "       [ 3.4739287 ],\n",
       "       [ 1.5338407 ],\n",
       "       [ 1.0031059 ],\n",
       "       [ 3.48901   ],\n",
       "       [ 2.146912  ],\n",
       "       [ 1.9075098 ],\n",
       "       [ 4.3398256 ],\n",
       "       [ 0.60995185],\n",
       "       [ 0.9368433 ],\n",
       "       [ 1.9600086 ],\n",
       "       [ 3.6621735 ],\n",
       "       [ 1.2583895 ],\n",
       "       [ 4.0660477 ],\n",
       "       [13.135309  ],\n",
       "       [ 0.99427974],\n",
       "       [ 1.1081014 ],\n",
       "       [ 1.4188077 ],\n",
       "       [ 0.8963498 ],\n",
       "       [ 1.1683857 ],\n",
       "       [ 2.0013297 ],\n",
       "       [ 2.1649976 ],\n",
       "       [ 6.228471  ],\n",
       "       [ 0.7389284 ],\n",
       "       [ 5.7226615 ],\n",
       "       [ 1.0446024 ],\n",
       "       [ 1.3490779 ],\n",
       "       [ 2.1676152 ],\n",
       "       [ 0.5103064 ],\n",
       "       [ 1.4559929 ],\n",
       "       [ 0.70491946],\n",
       "       [ 1.5360622 ],\n",
       "       [ 4.559723  ],\n",
       "       [ 1.4496663 ],\n",
       "       [ 0.95099396],\n",
       "       [ 0.84651357],\n",
       "       [ 8.218649  ],\n",
       "       [ 2.1053443 ],\n",
       "       [ 0.8295619 ],\n",
       "       [ 2.740071  ],\n",
       "       [ 7.3386035 ],\n",
       "       [ 1.6335316 ],\n",
       "       [ 1.4618998 ],\n",
       "       [ 2.6101282 ],\n",
       "       [ 1.0041195 ],\n",
       "       [ 2.832195  ],\n",
       "       [ 1.7096002 ],\n",
       "       [ 2.1173499 ],\n",
       "       [ 1.8397653 ],\n",
       "       [ 0.62110937],\n",
       "       [ 1.8298168 ],\n",
       "       [ 1.6335316 ],\n",
       "       [ 4.3679233 ],\n",
       "       [ 1.2669785 ],\n",
       "       [ 1.7343647 ],\n",
       "       [ 1.8521874 ],\n",
       "       [ 5.894329  ],\n",
       "       [ 2.061301  ],\n",
       "       [ 1.0466399 ],\n",
       "       [ 1.2398422 ],\n",
       "       [ 2.0322273 ],\n",
       "       [ 2.1586587 ],\n",
       "       [ 0.49888483],\n",
       "       [ 1.7826791 ],\n",
       "       [ 3.069795  ],\n",
       "       [ 0.978524  ],\n",
       "       [13.555328  ],\n",
       "       [ 1.8809893 ],\n",
       "       [ 3.0712752 ],\n",
       "       [ 2.1407795 ],\n",
       "       [ 1.8835075 ],\n",
       "       [ 4.2526116 ],\n",
       "       [ 2.887808  ],\n",
       "       [ 2.9545496 ],\n",
       "       [ 4.76272   ],\n",
       "       [ 6.2421794 ]], dtype=float32)"
      ]
     },
     "execution_count": 50,
     "metadata": {},
     "output_type": "execute_result"
    }
   ],
   "source": [
    "model.predict(x_test.A)"
   ]
  },
  {
   "cell_type": "code",
   "execution_count": null,
   "id": "bc8b3aa0",
   "metadata": {},
   "outputs": [],
   "source": []
  },
  {
   "cell_type": "code",
   "execution_count": null,
   "id": "b89bad34",
   "metadata": {},
   "outputs": [],
   "source": []
  },
  {
   "cell_type": "code",
   "execution_count": null,
   "id": "d454fb9d",
   "metadata": {},
   "outputs": [],
   "source": []
  },
  {
   "cell_type": "code",
   "execution_count": null,
   "id": "3358b2b0",
   "metadata": {},
   "outputs": [],
   "source": []
  },
  {
   "cell_type": "code",
   "execution_count": null,
   "id": "bb4b6fd9",
   "metadata": {
    "executionInfo": {
     "elapsed": 793,
     "status": "ok",
     "timestamp": 1619198340310,
     "user": {
      "displayName": "­박준영[경영학부]",
      "photoUrl": "",
      "userId": "14019551026038677091"
     },
     "user_tz": -540
    },
    "id": "bb4b6fd9"
   },
   "outputs": [],
   "source": [
    "weights, _ = model.trainable_weights"
   ]
  },
  {
   "cell_type": "code",
   "execution_count": null,
   "id": "e73e0934",
   "metadata": {
    "executionInfo": {
     "elapsed": 777,
     "status": "ok",
     "timestamp": 1619198345327,
     "user": {
      "displayName": "­박준영[경영학부]",
      "photoUrl": "",
      "userId": "14019551026038677091"
     },
     "user_tz": -540
    },
    "id": "e73e0934"
   },
   "outputs": [],
   "source": [
    "#import pandas as pd\n",
    "token_weight = pd.DataFrame({'토큰': cv.get_feature_names(), '가중치': weights.numpy().flat})"
   ]
  },
  {
   "cell_type": "code",
   "execution_count": null,
   "id": "xl9qpA-nvmXz",
   "metadata": {
    "id": "xl9qpA-nvmXz"
   },
   "outputs": [],
   "source": [
    "for i in naver.comment:\n",
    "  if '앞' in i:\n",
    "    print(i)"
   ]
  },
  {
   "cell_type": "code",
   "execution_count": null,
   "id": "56f4c616",
   "metadata": {
    "colab": {
     "base_uri": "https://localhost:8080/",
     "height": 359
    },
    "executionInfo": {
     "elapsed": 1309,
     "status": "ok",
     "timestamp": 1619189546959,
     "user": {
      "displayName": "­박준영[경영학부]",
      "photoUrl": "",
      "userId": "14019551026038677091"
     },
     "user_tz": -540
    },
    "id": "56f4c616",
    "outputId": "8f50b805-04af-4ff1-c536-0e7f79f60e48"
   },
   "outputs": [],
   "source": [
    "token_weight.sort_values('가중치').head(10)"
   ]
  },
  {
   "cell_type": "code",
   "execution_count": null,
   "id": "d005451c",
   "metadata": {
    "colab": {
     "base_uri": "https://localhost:8080/",
     "height": 359
    },
    "executionInfo": {
     "elapsed": 1060,
     "status": "ok",
     "timestamp": 1619189548176,
     "user": {
      "displayName": "­박준영[경영학부]",
      "photoUrl": "",
      "userId": "14019551026038677091"
     },
     "user_tz": -540
    },
    "id": "d005451c",
    "outputId": "563ad7f7-99e8-4216-ffc0-5f43aa07f350"
   },
   "outputs": [],
   "source": [
    "token_weight.sort_values('가중치').tail(10)"
   ]
  },
  {
   "cell_type": "code",
   "execution_count": null,
   "id": "mFnCNjLQnWp8",
   "metadata": {
    "colab": {
     "base_uri": "https://localhost:8080/"
    },
    "executionInfo": {
     "elapsed": 921,
     "status": "ok",
     "timestamp": 1619189548518,
     "user": {
      "displayName": "­박준영[경영학부]",
      "photoUrl": "",
      "userId": "14019551026038677091"
     },
     "user_tz": -540
    },
    "id": "mFnCNjLQnWp8",
    "outputId": "4006265b-ad0d-4008-dce5-82357a7b830e"
   },
   "outputs": [],
   "source": [
    "for i in range(len(daum.comment)):\n",
    "  if '내구' in daum.comment[i]:\n",
    "    print(i, daum.comment[i])"
   ]
  },
  {
   "cell_type": "code",
   "execution_count": 20,
   "id": "1d992e8b",
   "metadata": {
    "executionInfo": {
     "elapsed": 15472,
     "status": "ok",
     "timestamp": 1619189586522,
     "user": {
      "displayName": "­박준영[경영학부]",
      "photoUrl": "",
      "userId": "14019551026038677091"
     },
     "user_tz": -540
    },
    "id": "1d992e8b"
   },
   "outputs": [],
   "source": [
    "dtm_naver = cv.fit_transform(naver.loc[:,'comment'])"
   ]
  },
  {
   "cell_type": "code",
   "execution_count": 21,
   "id": "a0cada67",
   "metadata": {
    "colab": {
     "base_uri": "https://localhost:8080/"
    },
    "executionInfo": {
     "elapsed": 753,
     "status": "ok",
     "timestamp": 1619190264436,
     "user": {
      "displayName": "­박준영[경영학부]",
      "photoUrl": "",
      "userId": "14019551026038677091"
     },
     "user_tz": -540
    },
    "id": "a0cada67",
    "outputId": "e343f20d-470e-4592-f862-60cc477441a3"
   },
   "outputs": [
    {
     "data": {
      "text/plain": [
       "2187"
      ]
     },
     "execution_count": 21,
     "metadata": {},
     "output_type": "execute_result"
    }
   ],
   "source": [
    "(model.predict(dtm_naver.A).flatten()>=0.5).sum()#.apply(lambda x: 1 if x>=0.5 else 0)"
   ]
  },
  {
   "cell_type": "code",
   "execution_count": null,
   "id": "5b6a1fec",
   "metadata": {
    "executionInfo": {
     "elapsed": 748,
     "status": "ok",
     "timestamp": 1619190307922,
     "user": {
      "displayName": "­박준영[경영학부]",
      "photoUrl": "",
      "userId": "14019551026038677091"
     },
     "user_tz": -540
    },
    "id": "5b6a1fec"
   },
   "outputs": [],
   "source": [
    "naver['predict'] = model.predict(dtm_naver.A).flatten()\n",
    "naver.predict = naver.predict.apply(lambda x: 1 if x>0.5 else 0)"
   ]
  },
  {
   "cell_type": "code",
   "execution_count": null,
   "id": "f735ffcb",
   "metadata": {
    "executionInfo": {
     "elapsed": 740,
     "status": "ok",
     "timestamp": 1619191691751,
     "user": {
      "displayName": "­박준영[경영학부]",
      "photoUrl": "",
      "userId": "14019551026038677091"
     },
     "user_tz": -540
    },
    "id": "f735ffcb"
   },
   "outputs": [],
   "source": [
    "Maker = ['KIA', 'HYUNDAI', 'GENESIS', 'SSANGYONG', 'SAMSUNG']\n",
    "KIA = naver.query('maker == @Maker[0]')\n",
    "HYUNDAI = naver.query('maker == @Maker[1]')\n",
    "GENESIS = naver.query('maker == @Maker[2]')\n",
    "SSANGYONG = naver.query('maker == @Maker[3]')\n",
    "SAMSUNG = naver.query('maker == @Maker[4]')"
   ]
  },
  {
   "cell_type": "code",
   "execution_count": null,
   "id": "a79f1b0c",
   "metadata": {
    "colab": {
     "base_uri": "https://localhost:8080/"
    },
    "executionInfo": {
     "elapsed": 746,
     "status": "ok",
     "timestamp": 1619191347332,
     "user": {
      "displayName": "­박준영[경영학부]",
      "photoUrl": "",
      "userId": "14019551026038677091"
     },
     "user_tz": -540
    },
    "id": "a79f1b0c",
    "outputId": "2ed94551-d3a7-4b57-90dc-f98b824885f3"
   },
   "outputs": [],
   "source": [
    "for m in urls:\n",
    "  print(m[1])"
   ]
  },
  {
   "cell_type": "code",
   "execution_count": null,
   "id": "85f48389",
   "metadata": {
    "colab": {
     "base_uri": "https://localhost:8080/"
    },
    "executionInfo": {
     "elapsed": 768,
     "status": "ok",
     "timestamp": 1619191311332,
     "user": {
      "displayName": "­박준영[경영학부]",
      "photoUrl": "",
      "userId": "14019551026038677091"
     },
     "user_tz": -540
    },
    "id": "85f48389",
    "outputId": "dffd9b7c-4bdc-48ad-f1a4-407e7bc5522b"
   },
   "outputs": [],
   "source": [
    "urls"
   ]
  },
  {
   "cell_type": "code",
   "execution_count": null,
   "id": "3605c7ee",
   "metadata": {
    "id": "3605c7ee"
   },
   "outputs": [],
   "source": [
    "#댓글이 차에 대한 리뷰인지 맞으면 use 1 아니면 0\n",
    "#읽어보면서 이번 프로젝트 의도와 맞지 않는 댓글은 제외하였다.\n",
    "daum_use = pd.read_csv('daum_use.csv',encoding='cp949')\n",
    "daum = daum_use.query('use == 1')\n",
    "naver_use = pd.read_csv('naver_use.csv',encoding='cp949')\n",
    "naver = naver_use.query('use == 1')"
   ]
  },
  {
   "cell_type": "code",
   "execution_count": null,
   "id": "87fa8c64",
   "metadata": {
    "id": "87fa8c64"
   },
   "outputs": [],
   "source": [
    "kiwi = Kiwi()\n",
    "kiwi.prepare()\n",
    "def extract_keywords(text):\n",
    "    stopwords = ['을', '를', '이', '가', '은', '는', '히','거','걸','경','그거','그것','그러','글','기','끼','르','마','솔','슬','즈']\n",
    "    words = []\n",
    "    result = kiwi.analyze(text)\n",
    "    for token, pos, _,_ in result[0][0]:\n",
    "        if pos[0] in 'NVI':\n",
    "            if token not in stopwords:\n",
    "                words.append(token)\n",
    "            #words = [t for t in token if t not in stopwords]\n",
    "            #words.append(token)\n",
    "    return words"
   ]
  },
  {
   "cell_type": "code",
   "execution_count": null,
   "id": "31c9e5a2",
   "metadata": {
    "id": "31c9e5a2"
   },
   "outputs": [],
   "source": [
    "max_features = 1500\n",
    "batch_size = 128\n",
    "learning_rate = 0.001\n",
    "epochs = 300"
   ]
  },
  {
   "cell_type": "code",
   "execution_count": null,
   "id": "1a12f570",
   "metadata": {
    "id": "1a12f570"
   },
   "outputs": [],
   "source": [
    "from sklearn.feature_extraction.text import CountVectorizer\n",
    "cv = CountVectorizer(max_features=max_features, tokenizer=extract_keywords)\n",
    "dtm = cv.fit_transform(daum.loc[0:, 'comment'])\n",
    "\n",
    "x=dtm\n",
    "y=daum.label.values[:]"
   ]
  },
  {
   "cell_type": "code",
   "execution_count": null,
   "id": "5ed472dd",
   "metadata": {
    "id": "5ed472dd"
   },
   "outputs": [],
   "source": [
    "from sklearn.model_selection import train_test_split\n",
    "\n",
    "x_train, x_test, y_train, y_test = train_test_split(x, y, test_size=0.2, random_state=0)"
   ]
  },
  {
   "cell_type": "code",
   "execution_count": null,
   "id": "b61bf25f",
   "metadata": {
    "id": "b61bf25f"
   },
   "outputs": [],
   "source": [
    "# 매번 모델링을 할 때마다 동일한 결과를 얻으려면 아래 코드를 실행해야 함.\n",
    "# 지난학기 머신러닝 코드\n",
    "import os\n",
    "import numpy as np\n",
    "import random\n",
    "import tensorflow as tf\n",
    "\n",
    "def reset_seeds(reset_graph_with_backend=None):\n",
    "    if reset_graph_with_backend is not None:\n",
    "        K = reset_graph_with_backend\n",
    "        K.clear_session()\n",
    "        tf.compat.v1.reset_default_graph()\n",
    "        print(\"KERAS AND TENSORFLOW GRAPHS RESET\")  # optional\n",
    "\n",
    "    np.random.seed(1)\n",
    "    random.seed(2)\n",
    "    tf.compat.v1.set_random_seed(3)\n",
    "    os.environ['CUDA_VISIBLE_DEVICES'] = ''  # for GPU\n",
    "    print(\"RANDOM SEEDS RESET\")  # optional\n",
    "   \n",
    "reset_seeds()"
   ]
  },
  {
   "cell_type": "code",
   "execution_count": null,
   "id": "e8031995",
   "metadata": {
    "id": "e8031995"
   },
   "outputs": [],
   "source": [
    "x_train.shape , x_test.shape"
   ]
  },
  {
   "cell_type": "code",
   "execution_count": null,
   "id": "69707e47",
   "metadata": {
    "id": "69707e47"
   },
   "outputs": [],
   "source": [
    "model = tf.keras.models.Sequential()\n",
    "model.add(\n",
    "    tf.keras.layers.Dense(\n",
    "        1, \n",
    "        input_shape=(max_features,), \n",
    "        activation='sigmoid',\n",
    "        #kernel_regularizer=tf.keras.regularizers.l2(0.001))\n",
    "        ))\n"
   ]
  },
  {
   "cell_type": "code",
   "execution_count": null,
   "id": "7d460b79",
   "metadata": {
    "id": "7d460b79"
   },
   "outputs": [],
   "source": [
    "model.summary()\n",
    "\n",
    "model.compile(optimizer='adam', loss='binary_crossentropy', metrics=['accuracy'])\n",
    "\n",
    "hist = model.fit(x_train.A, y_train, epochs=epochs, validation_split=0.2,\n",
    "          callbacks=[tf.keras.callbacks.EarlyStopping(monitor='val_accuracy', patience=5)])\n",
    "\n",
    "import matplotlib.pylab as plt\n",
    "from matplotlib import font_manager, rc\n",
    "%matplotlib inline\n",
    "# Loss\n",
    "plt.plot(hist.history['accuracy'], label=\"train\")\n",
    "plt.plot(hist.history[\"val_accuracy\"], label=\"validation\")\n",
    "plt.legend()\n",
    "plt.xlabel('epoch')\n",
    "plt.title(\"Accuracy\")\n",
    "plt.show()\n",
    "\n",
    "model.evaluate(x_test.A, y_test, verbose=0)\n",
    "\n",
    "weights, _ = model.trainable_weights\n",
    "\n",
    "import pandas as pd\n",
    "token_weight = pd.DataFrame({'토큰': cv.get_feature_names(), '가중치': weights.numpy().flat})\n",
    "\n",
    "token_weight.sort_values('가중치').head(20)\n",
    "\n",
    "token_weight.sort_values('가중치').tail(20)\n",
    "\n",
    "naver_use[naver_use.comment=='단점총정리 콘솔박스 폭이 작다(콘솔박스가 작다는건 실내가 작다는거) 컨트롤 패널 조작성능이 불편하다(오디오 볼륨조절 다이얼로 좀 바꿔줫으면 열선시트 쿨링시트 스위치 분리좀해줬으면) 차선이탈보조 장치이지 차선유지보조 장치는 아니다(자율보조주행 아닙니다) B필러 때문에 2열 승하차가 불편하다(발이 계속 걸린다) 2열 높이가 낮아 180이상은 머리가 스치고 183이상은 똑바로 앉아 있지 못하다(시승차에 썬루프가 없는 이유이기도 하다) 배기량에 비해 큰 차급으로 오르막길 출발시 버거움을 느끼는건 어쩔수 없다 트렁크가 높아 유리가 작아져 뒷공간 시야확보가 힘들다(탑차타는거 같은 답답함) 디자인상 어쩔 수 없는 5도어 트렁크라 한계점이 있다 2열 송풍구 너무 아날로그 적(쌍용도 이딴식으로 안만든다)이다 2열 의자 폭이 좁아 허벅지가 뜬다(어째든 큰신장은 2열 너무불편하다) - 단점을 잘 아시고 잘 고려해보신 후 구매하세요']\n",
    "\n",
    "(model.predict(dtm_naver.A).flatten()>0.5).sum()\n",
    "\n",
    "model.predict(dtm_naver.A).flatten()[5025]"
   ]
  },
  {
   "cell_type": "code",
   "execution_count": null,
   "id": "11400df8",
   "metadata": {
    "id": "11400df8"
   },
   "outputs": [],
   "source": []
  },
  {
   "cell_type": "code",
   "execution_count": null,
   "id": "f8f56605",
   "metadata": {
    "id": "f8f56605",
    "scrolled": false
   },
   "outputs": [],
   "source": [
    "naver_use.comment[5372]"
   ]
  },
  {
   "cell_type": "code",
   "execution_count": null,
   "id": "fad975d6",
   "metadata": {
    "id": "fad975d6"
   },
   "outputs": [],
   "source": []
  },
  {
   "cell_type": "code",
   "execution_count": null,
   "id": "ca3141a3",
   "metadata": {
    "id": "ca3141a3"
   },
   "outputs": [],
   "source": [
    "naver_use.iloc[5372, 2]"
   ]
  },
  {
   "cell_type": "code",
   "execution_count": null,
   "id": "88258d66",
   "metadata": {
    "id": "88258d66"
   },
   "outputs": [],
   "source": []
  },
  {
   "cell_type": "code",
   "execution_count": null,
   "id": "0de7db50",
   "metadata": {
    "id": "0de7db50"
   },
   "outputs": [],
   "source": []
  }
 ],
 "metadata": {
  "colab": {
   "collapsed_sections": [
    "0a1c6043",
    "cbd69b21",
    "8c644612",
    "7f3c8f9a",
    "f60fb34a",
    "49d9c6c6",
    "kP9CkjLM3RYB",
    "6e6151c4",
    "e08fb38c",
    "2AiTSI1Ws079",
    "K8UksNMDXNff",
    "1042c2f0"
   ],
   "name": "댓글감성분석.ipynb",
   "provenance": []
  },
  "kernelspec": {
   "display_name": "Python 3 (ipykernel)",
   "language": "python",
   "name": "python3"
  },
  "language_info": {
   "codemirror_mode": {
    "name": "ipython",
    "version": 3
   },
   "file_extension": ".py",
   "mimetype": "text/x-python",
   "name": "python",
   "nbconvert_exporter": "python",
   "pygments_lexer": "ipython3",
   "version": "3.9.13"
  }
 },
 "nbformat": 4,
 "nbformat_minor": 5
}
